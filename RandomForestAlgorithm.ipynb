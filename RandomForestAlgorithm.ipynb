{
 "cells": [
  {
   "cell_type": "markdown",
   "id": "5bcf8a76",
   "metadata": {
    "papermill": {
     "duration": 0.023203,
     "end_time": "2023-08-17T15:51:30.116791",
     "exception": false,
     "start_time": "2023-08-17T15:51:30.093588",
     "status": "completed"
    },
    "tags": []
   },
   "source": [
    "# **Pre-processing**"
   ]
  },
  {
   "cell_type": "code",
   "execution_count": 1,
   "id": "a0a7023d",
   "metadata": {
    "execution": {
     "iopub.execute_input": "2023-08-17T15:51:30.166256Z",
     "iopub.status.busy": "2023-08-17T15:51:30.165496Z",
     "iopub.status.idle": "2023-08-17T15:51:34.668349Z",
     "shell.execute_reply": "2023-08-17T15:51:34.667202Z"
    },
    "papermill": {
     "duration": 4.530641,
     "end_time": "2023-08-17T15:51:34.670562",
     "exception": false,
     "start_time": "2023-08-17T15:51:30.139921",
     "status": "completed"
    },
    "tags": []
   },
   "outputs": [
    {
     "name": "stderr",
     "output_type": "stream",
     "text": [
      "/opt/conda/lib/python3.10/site-packages/scipy/__init__.py:146: UserWarning: A NumPy version >=1.16.5 and <1.23.0 is required for this version of SciPy (detected version 1.23.5\n",
      "  warnings.warn(f\"A NumPy version >={np_minversion} and <{np_maxversion}\"\n"
     ]
    }
   ],
   "source": [
    "import numpy as np\n",
    "import pandas as pd\n",
    "import json\n",
    "import datetime\n",
    "\n",
    "import re\n",
    "import nltk\n",
    "from nltk.corpus import stopwords\n",
    "\n",
    "from collections import Counter\n",
    "\n",
    "import seaborn as sns\n",
    "import matplotlib.pyplot as plt\n",
    "from matplotlib.pyplot import figure\n",
    "\n",
    "\n",
    "import patsy\n",
    "import statsmodels.api as sm\n",
    "import scipy.stats as stats\n",
    "from scipy.stats import ttest_ind, chisquare, normaltest\n",
    "\n",
    "from sklearn.ensemble import RandomForestRegressor\n",
    "from sklearn.model_selection import train_test_split\n",
    "from sklearn.metrics import mean_squared_error, mean_absolute_error, explained_variance_score\n",
    "from sklearn.model_selection import cross_val_predict\n",
    "from sklearn.model_selection import cross_val_score"
   ]
  },
  {
   "cell_type": "code",
   "execution_count": 2,
   "id": "c71274bf",
   "metadata": {
    "execution": {
     "iopub.execute_input": "2023-08-17T15:51:34.718517Z",
     "iopub.status.busy": "2023-08-17T15:51:34.717897Z",
     "iopub.status.idle": "2023-08-17T15:51:42.442473Z",
     "shell.execute_reply": "2023-08-17T15:51:42.441634Z"
    },
    "papermill": {
     "duration": 7.750976,
     "end_time": "2023-08-17T15:51:42.444252",
     "exception": false,
     "start_time": "2023-08-17T15:51:34.693276",
     "status": "completed"
    },
    "tags": []
   },
   "outputs": [
    {
     "data": {
      "text/html": [
       "<div>\n",
       "<style scoped>\n",
       "    .dataframe tbody tr th:only-of-type {\n",
       "        vertical-align: middle;\n",
       "    }\n",
       "\n",
       "    .dataframe tbody tr th {\n",
       "        vertical-align: top;\n",
       "    }\n",
       "\n",
       "    .dataframe thead th {\n",
       "        text-align: right;\n",
       "    }\n",
       "</style>\n",
       "<table border=\"1\" class=\"dataframe\">\n",
       "  <thead>\n",
       "    <tr style=\"text-align: right;\">\n",
       "      <th></th>\n",
       "      <th>video_id</th>\n",
       "      <th>title</th>\n",
       "      <th>publishedAt</th>\n",
       "      <th>channelId</th>\n",
       "      <th>channelTitle</th>\n",
       "      <th>categoryId</th>\n",
       "      <th>trending_date</th>\n",
       "      <th>tags</th>\n",
       "      <th>view_count</th>\n",
       "      <th>likes</th>\n",
       "      <th>dislikes</th>\n",
       "      <th>comment_count</th>\n",
       "      <th>thumbnail_link</th>\n",
       "      <th>comments_disabled</th>\n",
       "      <th>ratings_disabled</th>\n",
       "      <th>description</th>\n",
       "    </tr>\n",
       "  </thead>\n",
       "  <tbody>\n",
       "    <tr>\n",
       "      <th>0</th>\n",
       "      <td>3C66w5Z0ixs</td>\n",
       "      <td>I ASKED HER TO BE MY GIRLFRIEND...</td>\n",
       "      <td>2020-08-11T19:20:14Z</td>\n",
       "      <td>UCvtRTOMP2TqYqu51xNrqAzg</td>\n",
       "      <td>Brawadis</td>\n",
       "      <td>22</td>\n",
       "      <td>2020-08-12T00:00:00Z</td>\n",
       "      <td>brawadis|prank|basketball|skits|ghost|funny vi...</td>\n",
       "      <td>1514614</td>\n",
       "      <td>156908</td>\n",
       "      <td>5855</td>\n",
       "      <td>35313</td>\n",
       "      <td>https://i.ytimg.com/vi/3C66w5Z0ixs/default.jpg</td>\n",
       "      <td>False</td>\n",
       "      <td>False</td>\n",
       "      <td>SUBSCRIBE to BRAWADIS ▶ http://bit.ly/Subscrib...</td>\n",
       "    </tr>\n",
       "    <tr>\n",
       "      <th>1</th>\n",
       "      <td>M9Pmf9AB4Mo</td>\n",
       "      <td>Apex Legends | Stories from the Outlands – “Th...</td>\n",
       "      <td>2020-08-11T17:00:10Z</td>\n",
       "      <td>UC0ZV6M2THA81QT9hrVWJG3A</td>\n",
       "      <td>Apex Legends</td>\n",
       "      <td>20</td>\n",
       "      <td>2020-08-12T00:00:00Z</td>\n",
       "      <td>Apex Legends|Apex Legends characters|new Apex ...</td>\n",
       "      <td>2381688</td>\n",
       "      <td>146739</td>\n",
       "      <td>2794</td>\n",
       "      <td>16549</td>\n",
       "      <td>https://i.ytimg.com/vi/M9Pmf9AB4Mo/default.jpg</td>\n",
       "      <td>False</td>\n",
       "      <td>False</td>\n",
       "      <td>While running her own modding shop, Ramya Pare...</td>\n",
       "    </tr>\n",
       "    <tr>\n",
       "      <th>2</th>\n",
       "      <td>J78aPJ3VyNs</td>\n",
       "      <td>I left youtube for a month and THIS is what ha...</td>\n",
       "      <td>2020-08-11T16:34:06Z</td>\n",
       "      <td>UCYzPXprvl5Y-Sf0g4vX-m6g</td>\n",
       "      <td>jacksepticeye</td>\n",
       "      <td>24</td>\n",
       "      <td>2020-08-12T00:00:00Z</td>\n",
       "      <td>jacksepticeye|funny|funny meme|memes|jacksepti...</td>\n",
       "      <td>2038853</td>\n",
       "      <td>353787</td>\n",
       "      <td>2628</td>\n",
       "      <td>40221</td>\n",
       "      <td>https://i.ytimg.com/vi/J78aPJ3VyNs/default.jpg</td>\n",
       "      <td>False</td>\n",
       "      <td>False</td>\n",
       "      <td>I left youtube for a month and this is what ha...</td>\n",
       "    </tr>\n",
       "    <tr>\n",
       "      <th>3</th>\n",
       "      <td>kXLn3HkpjaA</td>\n",
       "      <td>XXL 2020 Freshman Class Revealed - Official An...</td>\n",
       "      <td>2020-08-11T16:38:55Z</td>\n",
       "      <td>UCbg_UMjlHJg_19SZckaKajg</td>\n",
       "      <td>XXL</td>\n",
       "      <td>10</td>\n",
       "      <td>2020-08-12T00:00:00Z</td>\n",
       "      <td>xxl freshman|xxl freshmen|2020 xxl freshman|20...</td>\n",
       "      <td>496771</td>\n",
       "      <td>23251</td>\n",
       "      <td>1856</td>\n",
       "      <td>7647</td>\n",
       "      <td>https://i.ytimg.com/vi/kXLn3HkpjaA/default.jpg</td>\n",
       "      <td>False</td>\n",
       "      <td>False</td>\n",
       "      <td>Subscribe to XXL → http://bit.ly/subscribe-xxl...</td>\n",
       "    </tr>\n",
       "    <tr>\n",
       "      <th>4</th>\n",
       "      <td>VIUo6yapDbc</td>\n",
       "      <td>Ultimate DIY Home Movie Theater for The LaBran...</td>\n",
       "      <td>2020-08-11T15:10:05Z</td>\n",
       "      <td>UCDVPcEbVLQgLZX0Rt6jo34A</td>\n",
       "      <td>Mr. Kate</td>\n",
       "      <td>26</td>\n",
       "      <td>2020-08-12T00:00:00Z</td>\n",
       "      <td>The LaBrant Family|DIY|Interior Design|Makeove...</td>\n",
       "      <td>1123889</td>\n",
       "      <td>45802</td>\n",
       "      <td>964</td>\n",
       "      <td>2196</td>\n",
       "      <td>https://i.ytimg.com/vi/VIUo6yapDbc/default.jpg</td>\n",
       "      <td>False</td>\n",
       "      <td>False</td>\n",
       "      <td>Transforming The LaBrant Family's empty white ...</td>\n",
       "    </tr>\n",
       "  </tbody>\n",
       "</table>\n",
       "</div>"
      ],
      "text/plain": [
       "      video_id                                              title  \\\n",
       "0  3C66w5Z0ixs                 I ASKED HER TO BE MY GIRLFRIEND...   \n",
       "1  M9Pmf9AB4Mo  Apex Legends | Stories from the Outlands – “Th...   \n",
       "2  J78aPJ3VyNs  I left youtube for a month and THIS is what ha...   \n",
       "3  kXLn3HkpjaA  XXL 2020 Freshman Class Revealed - Official An...   \n",
       "4  VIUo6yapDbc  Ultimate DIY Home Movie Theater for The LaBran...   \n",
       "\n",
       "            publishedAt                 channelId   channelTitle  categoryId  \\\n",
       "0  2020-08-11T19:20:14Z  UCvtRTOMP2TqYqu51xNrqAzg       Brawadis          22   \n",
       "1  2020-08-11T17:00:10Z  UC0ZV6M2THA81QT9hrVWJG3A   Apex Legends          20   \n",
       "2  2020-08-11T16:34:06Z  UCYzPXprvl5Y-Sf0g4vX-m6g  jacksepticeye          24   \n",
       "3  2020-08-11T16:38:55Z  UCbg_UMjlHJg_19SZckaKajg            XXL          10   \n",
       "4  2020-08-11T15:10:05Z  UCDVPcEbVLQgLZX0Rt6jo34A       Mr. Kate          26   \n",
       "\n",
       "          trending_date                                               tags  \\\n",
       "0  2020-08-12T00:00:00Z  brawadis|prank|basketball|skits|ghost|funny vi...   \n",
       "1  2020-08-12T00:00:00Z  Apex Legends|Apex Legends characters|new Apex ...   \n",
       "2  2020-08-12T00:00:00Z  jacksepticeye|funny|funny meme|memes|jacksepti...   \n",
       "3  2020-08-12T00:00:00Z  xxl freshman|xxl freshmen|2020 xxl freshman|20...   \n",
       "4  2020-08-12T00:00:00Z  The LaBrant Family|DIY|Interior Design|Makeove...   \n",
       "\n",
       "   view_count   likes  dislikes  comment_count  \\\n",
       "0     1514614  156908      5855          35313   \n",
       "1     2381688  146739      2794          16549   \n",
       "2     2038853  353787      2628          40221   \n",
       "3      496771   23251      1856           7647   \n",
       "4     1123889   45802       964           2196   \n",
       "\n",
       "                                   thumbnail_link  comments_disabled  \\\n",
       "0  https://i.ytimg.com/vi/3C66w5Z0ixs/default.jpg              False   \n",
       "1  https://i.ytimg.com/vi/M9Pmf9AB4Mo/default.jpg              False   \n",
       "2  https://i.ytimg.com/vi/J78aPJ3VyNs/default.jpg              False   \n",
       "3  https://i.ytimg.com/vi/kXLn3HkpjaA/default.jpg              False   \n",
       "4  https://i.ytimg.com/vi/VIUo6yapDbc/default.jpg              False   \n",
       "\n",
       "   ratings_disabled                                        description  \n",
       "0             False  SUBSCRIBE to BRAWADIS ▶ http://bit.ly/Subscrib...  \n",
       "1             False  While running her own modding shop, Ramya Pare...  \n",
       "2             False  I left youtube for a month and this is what ha...  \n",
       "3             False  Subscribe to XXL → http://bit.ly/subscribe-xxl...  \n",
       "4             False  Transforming The LaBrant Family's empty white ...  "
      ]
     },
     "execution_count": 2,
     "metadata": {},
     "output_type": "execute_result"
    }
   ],
   "source": [
    "#Reading the data from csv file and storing it in a variable named df means data-frame\n",
    "df = pd.read_csv(\"../input/youtube-trending-video-dataset/US_youtube_trending_data.csv\")\n",
    "\n",
    "#Lets Check First 5 data in the table to analyse the variables\n",
    "df.head()"
   ]
  },
  {
   "cell_type": "markdown",
   "id": "c7e0f4ac",
   "metadata": {
    "papermill": {
     "duration": 0.023787,
     "end_time": "2023-08-17T15:51:42.492230",
     "exception": false,
     "start_time": "2023-08-17T15:51:42.468443",
     "status": "completed"
    },
    "tags": []
   },
   "source": [
    "# **Variables Analysis**\n",
    "There are 16 colums in the US dataset:\n",
    "\n",
    "\"video_id,title, title,publishedAt, channelId, channelTitle, categoryId, trending_date, tags,view_count, likes,dislikes, comment_count, thumbnail_link, comments_disabled, ratings_disabled, description\"\n",
    "\n",
    "Lets observe the variables that we might need\n",
    "\n",
    "* **video_id**: Have alphabets and numbers. But we wont be neading it for analysis but it can be used as a prove that the video really exists and we didn't just randomly add any data.\n",
    "* **trending_date**: Have the date when the video started trending.\n",
    "* **title**: Title represents the whole video or we can say what the video is about but sometimes youtubers tend to add catchy or falsy words so that viewers click on the video in the motive of geting views.\n",
    "* **channel_title**: Chanel name nothing much can be used to differentiate content creators.\n",
    "* **category_id**: YouTube gives every video a catagory id based on the video or the chanel owner can set a catagory so that viewers can find the video faster using the filter options.\n",
    "* **publishedAt**: When the video was actually published can be helpfull to know when the event started happning.\n",
    "* **tags**: Tags are famous ways to connect videos in worldwide known words we can also say that these are unoffical catagorys commonly known by people/viewers.\n",
    "* **views,likes,dislikes,comment_count**: Has numerical values it represents the ingagements of the video.\n",
    "* **thumbnail_link**: have the url for the picture of the thumbnail. Oddly now adding exotic pics to thumbnails can bring more views. We can analys the pics but that topic is more advanced so we will not be doing that.\n",
    "* **comments_disabled,ratings_disabled,video_error_or_removed**: Have bool values we think about it later if needed.\n",
    "* **description**: Have description as string. Might contain emoji ar ascii values, we have to remove them if we use them for anylysis."
   ]
  },
  {
   "cell_type": "code",
   "execution_count": 3,
   "id": "654101ae",
   "metadata": {
    "execution": {
     "iopub.execute_input": "2023-08-17T15:51:42.540211Z",
     "iopub.status.busy": "2023-08-17T15:51:42.539403Z",
     "iopub.status.idle": "2023-08-17T15:51:42.981279Z",
     "shell.execute_reply": "2023-08-17T15:51:42.980138Z"
    },
    "papermill": {
     "duration": 0.468157,
     "end_time": "2023-08-17T15:51:42.983531",
     "exception": false,
     "start_time": "2023-08-17T15:51:42.515374",
     "status": "completed"
    },
    "tags": []
   },
   "outputs": [
    {
     "name": "stdout",
     "output_type": "stream",
     "text": [
      "<class 'pandas.core.frame.DataFrame'>\n",
      "RangeIndex: 220588 entries, 0 to 220587\n",
      "Data columns (total 16 columns):\n",
      " #   Column             Non-Null Count   Dtype \n",
      "---  ------             --------------   ----- \n",
      " 0   video_id           220588 non-null  object\n",
      " 1   title              220588 non-null  object\n",
      " 2   publishedAt        220588 non-null  object\n",
      " 3   channelId          220588 non-null  object\n",
      " 4   channelTitle       220588 non-null  object\n",
      " 5   categoryId         220588 non-null  int64 \n",
      " 6   trending_date      220588 non-null  object\n",
      " 7   tags               220588 non-null  object\n",
      " 8   view_count         220588 non-null  int64 \n",
      " 9   likes              220588 non-null  int64 \n",
      " 10  dislikes           220588 non-null  int64 \n",
      " 11  comment_count      220588 non-null  int64 \n",
      " 12  thumbnail_link     220588 non-null  object\n",
      " 13  comments_disabled  220588 non-null  bool  \n",
      " 14  ratings_disabled   220588 non-null  bool  \n",
      " 15  description        216261 non-null  object\n",
      "dtypes: bool(2), int64(5), object(9)\n",
      "memory usage: 24.0+ MB\n"
     ]
    }
   ],
   "source": [
    "df.info()"
   ]
  },
  {
   "cell_type": "code",
   "execution_count": 4,
   "id": "8e354bba",
   "metadata": {
    "execution": {
     "iopub.execute_input": "2023-08-17T15:51:43.031123Z",
     "iopub.status.busy": "2023-08-17T15:51:43.030808Z",
     "iopub.status.idle": "2023-08-17T15:51:43.064600Z",
     "shell.execute_reply": "2023-08-17T15:51:43.063381Z"
    },
    "papermill": {
     "duration": 0.061055,
     "end_time": "2023-08-17T15:51:43.067360",
     "exception": false,
     "start_time": "2023-08-17T15:51:43.006305",
     "status": "completed"
    },
    "tags": []
   },
   "outputs": [
    {
     "data": {
      "text/html": [
       "<div>\n",
       "<style scoped>\n",
       "    .dataframe tbody tr th:only-of-type {\n",
       "        vertical-align: middle;\n",
       "    }\n",
       "\n",
       "    .dataframe tbody tr th {\n",
       "        vertical-align: top;\n",
       "    }\n",
       "\n",
       "    .dataframe thead th {\n",
       "        text-align: right;\n",
       "    }\n",
       "</style>\n",
       "<table border=\"1\" class=\"dataframe\">\n",
       "  <thead>\n",
       "    <tr style=\"text-align: right;\">\n",
       "      <th></th>\n",
       "      <th>title</th>\n",
       "      <th>publishedAt</th>\n",
       "      <th>channelId</th>\n",
       "      <th>channelTitle</th>\n",
       "      <th>categoryId</th>\n",
       "      <th>trending_date</th>\n",
       "      <th>tags</th>\n",
       "      <th>view_count</th>\n",
       "      <th>likes</th>\n",
       "      <th>dislikes</th>\n",
       "      <th>comment_count</th>\n",
       "      <th>comments_disabled</th>\n",
       "      <th>ratings_disabled</th>\n",
       "      <th>description</th>\n",
       "    </tr>\n",
       "  </thead>\n",
       "  <tbody>\n",
       "    <tr>\n",
       "      <th>0</th>\n",
       "      <td>I ASKED HER TO BE MY GIRLFRIEND...</td>\n",
       "      <td>2020-08-11T19:20:14Z</td>\n",
       "      <td>UCvtRTOMP2TqYqu51xNrqAzg</td>\n",
       "      <td>Brawadis</td>\n",
       "      <td>22</td>\n",
       "      <td>2020-08-12T00:00:00Z</td>\n",
       "      <td>brawadis|prank|basketball|skits|ghost|funny vi...</td>\n",
       "      <td>1514614</td>\n",
       "      <td>156908</td>\n",
       "      <td>5855</td>\n",
       "      <td>35313</td>\n",
       "      <td>False</td>\n",
       "      <td>False</td>\n",
       "      <td>SUBSCRIBE to BRAWADIS ▶ http://bit.ly/Subscrib...</td>\n",
       "    </tr>\n",
       "    <tr>\n",
       "      <th>1</th>\n",
       "      <td>Apex Legends | Stories from the Outlands – “Th...</td>\n",
       "      <td>2020-08-11T17:00:10Z</td>\n",
       "      <td>UC0ZV6M2THA81QT9hrVWJG3A</td>\n",
       "      <td>Apex Legends</td>\n",
       "      <td>20</td>\n",
       "      <td>2020-08-12T00:00:00Z</td>\n",
       "      <td>Apex Legends|Apex Legends characters|new Apex ...</td>\n",
       "      <td>2381688</td>\n",
       "      <td>146739</td>\n",
       "      <td>2794</td>\n",
       "      <td>16549</td>\n",
       "      <td>False</td>\n",
       "      <td>False</td>\n",
       "      <td>While running her own modding shop, Ramya Pare...</td>\n",
       "    </tr>\n",
       "  </tbody>\n",
       "</table>\n",
       "</div>"
      ],
      "text/plain": [
       "                                               title           publishedAt  \\\n",
       "0                 I ASKED HER TO BE MY GIRLFRIEND...  2020-08-11T19:20:14Z   \n",
       "1  Apex Legends | Stories from the Outlands – “Th...  2020-08-11T17:00:10Z   \n",
       "\n",
       "                  channelId  channelTitle  categoryId         trending_date  \\\n",
       "0  UCvtRTOMP2TqYqu51xNrqAzg      Brawadis          22  2020-08-12T00:00:00Z   \n",
       "1  UC0ZV6M2THA81QT9hrVWJG3A  Apex Legends          20  2020-08-12T00:00:00Z   \n",
       "\n",
       "                                                tags  view_count   likes  \\\n",
       "0  brawadis|prank|basketball|skits|ghost|funny vi...     1514614  156908   \n",
       "1  Apex Legends|Apex Legends characters|new Apex ...     2381688  146739   \n",
       "\n",
       "   dislikes  comment_count  comments_disabled  ratings_disabled  \\\n",
       "0      5855          35313              False             False   \n",
       "1      2794          16549              False             False   \n",
       "\n",
       "                                         description  \n",
       "0  SUBSCRIBE to BRAWADIS ▶ http://bit.ly/Subscrib...  \n",
       "1  While running her own modding shop, Ramya Pare...  "
      ]
     },
     "execution_count": 4,
     "metadata": {},
     "output_type": "execute_result"
    }
   ],
   "source": [
    "#Lets remove \"video_id\" and \"thumbnail_link\" we wont be needing those\n",
    "\n",
    "df.drop(columns=['video_id','thumbnail_link'],inplace=True, errors='ignore')\n",
    "#Lets check that if we had successfully removed the columns.\n",
    "df.head(n=2)"
   ]
  },
  {
   "cell_type": "markdown",
   "id": "3f83d8fc",
   "metadata": {
    "papermill": {
     "duration": 0.02391,
     "end_time": "2023-08-17T15:51:43.115009",
     "exception": false,
     "start_time": "2023-08-17T15:51:43.091099",
     "status": "completed"
    },
    "tags": []
   },
   "source": [
    "**Catagory ID Mapping**\n",
    "\n",
    "Currently, the category_id column contains the category id of each video, which is in the form of a number. We will replace the **category id** with the corresponding category title, as provided to us from in a json file from the original Kaggle dataset. To do this, we will create the dictionary **categoryID**, which will contain each category's information (i.e. kind, etag, id, title, etc.) We are only interested in the id and title, so we will create a separate dictionary called **ID_to_Category** which will just contain the id's as keys and the corresponding titles."
   ]
  },
  {
   "cell_type": "code",
   "execution_count": 5,
   "id": "8cf7a7a1",
   "metadata": {
    "execution": {
     "iopub.execute_input": "2023-08-17T15:51:43.163924Z",
     "iopub.status.busy": "2023-08-17T15:51:43.163576Z",
     "iopub.status.idle": "2023-08-17T15:51:43.181052Z",
     "shell.execute_reply": "2023-08-17T15:51:43.179370Z"
    },
    "papermill": {
     "duration": 0.04497,
     "end_time": "2023-08-17T15:51:43.183575",
     "exception": false,
     "start_time": "2023-08-17T15:51:43.138605",
     "status": "completed"
    },
    "tags": []
   },
   "outputs": [],
   "source": [
    "#We need to import json so that we can use its contents.\n",
    "\n",
    "with open(\"../input/youtube-trending-video-dataset/US_category_id.json\") as f: categoryID = json.load(f)\n",
    "categoryID, l_c = categoryID['items'], len(categoryID['items'])\n",
    "ID_to_Category = dict(zip([int(categoryID[i]['id']) for i in range(l_c)],\n",
    "                          [categoryID[i]['snippet']['title'] for i in range(l_c)]))"
   ]
  },
  {
   "cell_type": "code",
   "execution_count": 6,
   "id": "012ec830",
   "metadata": {
    "execution": {
     "iopub.execute_input": "2023-08-17T15:51:43.233294Z",
     "iopub.status.busy": "2023-08-17T15:51:43.232965Z",
     "iopub.status.idle": "2023-08-17T15:51:43.241473Z",
     "shell.execute_reply": "2023-08-17T15:51:43.240116Z"
    },
    "papermill": {
     "duration": 0.035449,
     "end_time": "2023-08-17T15:51:43.243796",
     "exception": false,
     "start_time": "2023-08-17T15:51:43.208347",
     "status": "completed"
    },
    "tags": []
   },
   "outputs": [
    {
     "data": {
      "text/plain": [
       "{1: 'Film & Animation',\n",
       " 2: 'Autos & Vehicles',\n",
       " 10: 'Music',\n",
       " 15: 'Pets & Animals',\n",
       " 17: 'Sports',\n",
       " 18: 'Short Movies',\n",
       " 19: 'Travel & Events',\n",
       " 20: 'Gaming',\n",
       " 21: 'Videoblogging',\n",
       " 22: 'People & Blogs',\n",
       " 23: 'Comedy',\n",
       " 24: 'Entertainment',\n",
       " 25: 'News & Politics',\n",
       " 26: 'Howto & Style',\n",
       " 27: 'Education',\n",
       " 28: 'Science & Technology',\n",
       " 29: 'Nonprofits & Activism',\n",
       " 30: 'Movies',\n",
       " 31: 'Anime/Animation',\n",
       " 32: 'Action/Adventure',\n",
       " 33: 'Classics',\n",
       " 34: 'Comedy',\n",
       " 35: 'Documentary',\n",
       " 36: 'Drama',\n",
       " 37: 'Family',\n",
       " 38: 'Foreign',\n",
       " 39: 'Horror',\n",
       " 40: 'Sci-Fi/Fantasy',\n",
       " 41: 'Thriller',\n",
       " 42: 'Shorts',\n",
       " 43: 'Shows',\n",
       " 44: 'Trailers'}"
      ]
     },
     "execution_count": 6,
     "metadata": {},
     "output_type": "execute_result"
    }
   ],
   "source": [
    "ID_to_Category"
   ]
  },
  {
   "cell_type": "code",
   "execution_count": 7,
   "id": "e8e9e17e",
   "metadata": {
    "execution": {
     "iopub.execute_input": "2023-08-17T15:51:43.293936Z",
     "iopub.status.busy": "2023-08-17T15:51:43.293538Z",
     "iopub.status.idle": "2023-08-17T15:51:43.301013Z",
     "shell.execute_reply": "2023-08-17T15:51:43.299699Z"
    },
    "papermill": {
     "duration": 0.035523,
     "end_time": "2023-08-17T15:51:43.303066",
     "exception": false,
     "start_time": "2023-08-17T15:51:43.267543",
     "status": "completed"
    },
    "tags": []
   },
   "outputs": [
    {
     "data": {
      "text/plain": [
       "dict_keys([1, 2, 10, 15, 17, 18, 19, 20, 21, 22, 23, 24, 25, 26, 27, 28, 29, 30, 31, 32, 33, 34, 35, 36, 37, 38, 39, 40, 41, 42, 43, 44])"
      ]
     },
     "execution_count": 7,
     "metadata": {},
     "output_type": "execute_result"
    }
   ],
   "source": [
    "ID_to_Category.keys()"
   ]
  },
  {
   "cell_type": "code",
   "execution_count": 8,
   "id": "3b7467e6",
   "metadata": {
    "execution": {
     "iopub.execute_input": "2023-08-17T15:51:43.353451Z",
     "iopub.status.busy": "2023-08-17T15:51:43.353123Z",
     "iopub.status.idle": "2023-08-17T15:51:43.370240Z",
     "shell.execute_reply": "2023-08-17T15:51:43.369081Z"
    },
    "papermill": {
     "duration": 0.044856,
     "end_time": "2023-08-17T15:51:43.373043",
     "exception": false,
     "start_time": "2023-08-17T15:51:43.328187",
     "status": "completed"
    },
    "tags": []
   },
   "outputs": [
    {
     "data": {
      "text/html": [
       "<div>\n",
       "<style scoped>\n",
       "    .dataframe tbody tr th:only-of-type {\n",
       "        vertical-align: middle;\n",
       "    }\n",
       "\n",
       "    .dataframe tbody tr th {\n",
       "        vertical-align: top;\n",
       "    }\n",
       "\n",
       "    .dataframe thead th {\n",
       "        text-align: right;\n",
       "    }\n",
       "</style>\n",
       "<table border=\"1\" class=\"dataframe\">\n",
       "  <thead>\n",
       "    <tr style=\"text-align: right;\">\n",
       "      <th></th>\n",
       "      <th>title</th>\n",
       "      <th>publishedAt</th>\n",
       "      <th>channelId</th>\n",
       "      <th>channelTitle</th>\n",
       "      <th>categoryId</th>\n",
       "      <th>trending_date</th>\n",
       "      <th>tags</th>\n",
       "      <th>view_count</th>\n",
       "      <th>likes</th>\n",
       "      <th>dislikes</th>\n",
       "      <th>comment_count</th>\n",
       "      <th>comments_disabled</th>\n",
       "      <th>ratings_disabled</th>\n",
       "      <th>description</th>\n",
       "    </tr>\n",
       "  </thead>\n",
       "  <tbody>\n",
       "    <tr>\n",
       "      <th>0</th>\n",
       "      <td>I ASKED HER TO BE MY GIRLFRIEND...</td>\n",
       "      <td>2020-08-11T19:20:14Z</td>\n",
       "      <td>UCvtRTOMP2TqYqu51xNrqAzg</td>\n",
       "      <td>Brawadis</td>\n",
       "      <td>22</td>\n",
       "      <td>2020-08-12T00:00:00Z</td>\n",
       "      <td>brawadis|prank|basketball|skits|ghost|funny vi...</td>\n",
       "      <td>1514614</td>\n",
       "      <td>156908</td>\n",
       "      <td>5855</td>\n",
       "      <td>35313</td>\n",
       "      <td>False</td>\n",
       "      <td>False</td>\n",
       "      <td>SUBSCRIBE to BRAWADIS ▶ http://bit.ly/Subscrib...</td>\n",
       "    </tr>\n",
       "    <tr>\n",
       "      <th>1</th>\n",
       "      <td>Apex Legends | Stories from the Outlands – “Th...</td>\n",
       "      <td>2020-08-11T17:00:10Z</td>\n",
       "      <td>UC0ZV6M2THA81QT9hrVWJG3A</td>\n",
       "      <td>Apex Legends</td>\n",
       "      <td>20</td>\n",
       "      <td>2020-08-12T00:00:00Z</td>\n",
       "      <td>Apex Legends|Apex Legends characters|new Apex ...</td>\n",
       "      <td>2381688</td>\n",
       "      <td>146739</td>\n",
       "      <td>2794</td>\n",
       "      <td>16549</td>\n",
       "      <td>False</td>\n",
       "      <td>False</td>\n",
       "      <td>While running her own modding shop, Ramya Pare...</td>\n",
       "    </tr>\n",
       "  </tbody>\n",
       "</table>\n",
       "</div>"
      ],
      "text/plain": [
       "                                               title           publishedAt  \\\n",
       "0                 I ASKED HER TO BE MY GIRLFRIEND...  2020-08-11T19:20:14Z   \n",
       "1  Apex Legends | Stories from the Outlands – “Th...  2020-08-11T17:00:10Z   \n",
       "\n",
       "                  channelId  channelTitle  categoryId         trending_date  \\\n",
       "0  UCvtRTOMP2TqYqu51xNrqAzg      Brawadis          22  2020-08-12T00:00:00Z   \n",
       "1  UC0ZV6M2THA81QT9hrVWJG3A  Apex Legends          20  2020-08-12T00:00:00Z   \n",
       "\n",
       "                                                tags  view_count   likes  \\\n",
       "0  brawadis|prank|basketball|skits|ghost|funny vi...     1514614  156908   \n",
       "1  Apex Legends|Apex Legends characters|new Apex ...     2381688  146739   \n",
       "\n",
       "   dislikes  comment_count  comments_disabled  ratings_disabled  \\\n",
       "0      5855          35313              False             False   \n",
       "1      2794          16549              False             False   \n",
       "\n",
       "                                         description  \n",
       "0  SUBSCRIBE to BRAWADIS ▶ http://bit.ly/Subscrib...  \n",
       "1  While running her own modding shop, Ramya Pare...  "
      ]
     },
     "execution_count": 8,
     "metadata": {},
     "output_type": "execute_result"
    }
   ],
   "source": [
    "df.head(n=2)"
   ]
  },
  {
   "cell_type": "code",
   "execution_count": 9,
   "id": "919a7a29",
   "metadata": {
    "execution": {
     "iopub.execute_input": "2023-08-17T15:51:43.422663Z",
     "iopub.status.busy": "2023-08-17T15:51:43.422297Z",
     "iopub.status.idle": "2023-08-17T15:51:43.482803Z",
     "shell.execute_reply": "2023-08-17T15:51:43.481738Z"
    },
    "papermill": {
     "duration": 0.087883,
     "end_time": "2023-08-17T15:51:43.484802",
     "exception": false,
     "start_time": "2023-08-17T15:51:43.396919",
     "status": "completed"
    },
    "tags": []
   },
   "outputs": [
    {
     "data": {
      "text/html": [
       "<div>\n",
       "<style scoped>\n",
       "    .dataframe tbody tr th:only-of-type {\n",
       "        vertical-align: middle;\n",
       "    }\n",
       "\n",
       "    .dataframe tbody tr th {\n",
       "        vertical-align: top;\n",
       "    }\n",
       "\n",
       "    .dataframe thead th {\n",
       "        text-align: right;\n",
       "    }\n",
       "</style>\n",
       "<table border=\"1\" class=\"dataframe\">\n",
       "  <thead>\n",
       "    <tr style=\"text-align: right;\">\n",
       "      <th></th>\n",
       "      <th>title</th>\n",
       "      <th>publishedAt</th>\n",
       "      <th>channelId</th>\n",
       "      <th>channelTitle</th>\n",
       "      <th>categoryId</th>\n",
       "      <th>trending_date</th>\n",
       "      <th>tags</th>\n",
       "      <th>view_count</th>\n",
       "      <th>likes</th>\n",
       "      <th>dislikes</th>\n",
       "      <th>comment_count</th>\n",
       "      <th>comments_disabled</th>\n",
       "      <th>ratings_disabled</th>\n",
       "      <th>description</th>\n",
       "    </tr>\n",
       "  </thead>\n",
       "  <tbody>\n",
       "    <tr>\n",
       "      <th>0</th>\n",
       "      <td>I ASKED HER TO BE MY GIRLFRIEND...</td>\n",
       "      <td>2020-08-11T19:20:14Z</td>\n",
       "      <td>UCvtRTOMP2TqYqu51xNrqAzg</td>\n",
       "      <td>Brawadis</td>\n",
       "      <td>People &amp; Blogs</td>\n",
       "      <td>2020-08-12T00:00:00Z</td>\n",
       "      <td>brawadis|prank|basketball|skits|ghost|funny vi...</td>\n",
       "      <td>1514614</td>\n",
       "      <td>156908</td>\n",
       "      <td>5855</td>\n",
       "      <td>35313</td>\n",
       "      <td>False</td>\n",
       "      <td>False</td>\n",
       "      <td>SUBSCRIBE to BRAWADIS ▶ http://bit.ly/Subscrib...</td>\n",
       "    </tr>\n",
       "    <tr>\n",
       "      <th>1</th>\n",
       "      <td>Apex Legends | Stories from the Outlands – “Th...</td>\n",
       "      <td>2020-08-11T17:00:10Z</td>\n",
       "      <td>UC0ZV6M2THA81QT9hrVWJG3A</td>\n",
       "      <td>Apex Legends</td>\n",
       "      <td>Gaming</td>\n",
       "      <td>2020-08-12T00:00:00Z</td>\n",
       "      <td>Apex Legends|Apex Legends characters|new Apex ...</td>\n",
       "      <td>2381688</td>\n",
       "      <td>146739</td>\n",
       "      <td>2794</td>\n",
       "      <td>16549</td>\n",
       "      <td>False</td>\n",
       "      <td>False</td>\n",
       "      <td>While running her own modding shop, Ramya Pare...</td>\n",
       "    </tr>\n",
       "  </tbody>\n",
       "</table>\n",
       "</div>"
      ],
      "text/plain": [
       "                                               title           publishedAt  \\\n",
       "0                 I ASKED HER TO BE MY GIRLFRIEND...  2020-08-11T19:20:14Z   \n",
       "1  Apex Legends | Stories from the Outlands – “Th...  2020-08-11T17:00:10Z   \n",
       "\n",
       "                  channelId  channelTitle      categoryId  \\\n",
       "0  UCvtRTOMP2TqYqu51xNrqAzg      Brawadis  People & Blogs   \n",
       "1  UC0ZV6M2THA81QT9hrVWJG3A  Apex Legends          Gaming   \n",
       "\n",
       "          trending_date                                               tags  \\\n",
       "0  2020-08-12T00:00:00Z  brawadis|prank|basketball|skits|ghost|funny vi...   \n",
       "1  2020-08-12T00:00:00Z  Apex Legends|Apex Legends characters|new Apex ...   \n",
       "\n",
       "   view_count   likes  dislikes  comment_count  comments_disabled  \\\n",
       "0     1514614  156908      5855          35313              False   \n",
       "1     2381688  146739      2794          16549              False   \n",
       "\n",
       "   ratings_disabled                                        description  \n",
       "0             False  SUBSCRIBE to BRAWADIS ▶ http://bit.ly/Subscrib...  \n",
       "1             False  While running her own modding shop, Ramya Pare...  "
      ]
     },
     "execution_count": 9,
     "metadata": {},
     "output_type": "execute_result"
    }
   ],
   "source": [
    "df['categoryId'] = df['categoryId'].apply(lambda x: ID_to_Category[x])\n",
    "#Lets see the result\n",
    "df.head(n=2)"
   ]
  },
  {
   "cell_type": "markdown",
   "id": "5df0e179",
   "metadata": {
    "papermill": {
     "duration": 0.024074,
     "end_time": "2023-08-17T15:51:43.532813",
     "exception": false,
     "start_time": "2023-08-17T15:51:43.508739",
     "status": "completed"
    },
    "tags": []
   },
   "source": [
    "**Data Instancing**\n",
    "\n",
    "Both the **trending_date** and **publishedAt** columns have dates, but in different format. Publish_time includes the time of publication and date, while trending_date only have the date. Since we don't have the time the video started trending, we cannot compare it to the publish time. In the end, we will clean the data such that both columns include datatime.date objects."
   ]
  },
  {
   "cell_type": "code",
   "execution_count": 10,
   "id": "c8c1a057",
   "metadata": {
    "execution": {
     "iopub.execute_input": "2023-08-17T15:51:43.583567Z",
     "iopub.status.busy": "2023-08-17T15:51:43.583160Z",
     "iopub.status.idle": "2023-08-17T15:51:43.590738Z",
     "shell.execute_reply": "2023-08-17T15:51:43.589485Z"
    },
    "papermill": {
     "duration": 0.03606,
     "end_time": "2023-08-17T15:51:43.593251",
     "exception": false,
     "start_time": "2023-08-17T15:51:43.557191",
     "status": "completed"
    },
    "tags": []
   },
   "outputs": [],
   "source": [
    "#2020-08-11T19:20:14Z\n",
    "def clean_trending_date(date):\n",
    "    y,m,d = date.split('T')[0].split('-')\n",
    "    return datetime.date(int(y), int(m), int(d))\n",
    "\n",
    "def clean_publish_time(time):\n",
    "    y,m,d = time.split('T')[0].split('-')\n",
    "    return datetime.date(int(y), int(m), int(d))"
   ]
  },
  {
   "cell_type": "code",
   "execution_count": 11,
   "id": "b76d3d07",
   "metadata": {
    "execution": {
     "iopub.execute_input": "2023-08-17T15:51:43.643316Z",
     "iopub.status.busy": "2023-08-17T15:51:43.642899Z",
     "iopub.status.idle": "2023-08-17T15:51:44.160341Z",
     "shell.execute_reply": "2023-08-17T15:51:44.158864Z"
    },
    "papermill": {
     "duration": 0.546136,
     "end_time": "2023-08-17T15:51:44.163194",
     "exception": false,
     "start_time": "2023-08-17T15:51:43.617058",
     "status": "completed"
    },
    "tags": []
   },
   "outputs": [
    {
     "data": {
      "text/html": [
       "<div>\n",
       "<style scoped>\n",
       "    .dataframe tbody tr th:only-of-type {\n",
       "        vertical-align: middle;\n",
       "    }\n",
       "\n",
       "    .dataframe tbody tr th {\n",
       "        vertical-align: top;\n",
       "    }\n",
       "\n",
       "    .dataframe thead th {\n",
       "        text-align: right;\n",
       "    }\n",
       "</style>\n",
       "<table border=\"1\" class=\"dataframe\">\n",
       "  <thead>\n",
       "    <tr style=\"text-align: right;\">\n",
       "      <th></th>\n",
       "      <th>title</th>\n",
       "      <th>publishedAt</th>\n",
       "      <th>channelId</th>\n",
       "      <th>channelTitle</th>\n",
       "      <th>categoryId</th>\n",
       "      <th>trending_date</th>\n",
       "      <th>tags</th>\n",
       "      <th>view_count</th>\n",
       "      <th>likes</th>\n",
       "      <th>dislikes</th>\n",
       "      <th>comment_count</th>\n",
       "      <th>comments_disabled</th>\n",
       "      <th>ratings_disabled</th>\n",
       "      <th>description</th>\n",
       "    </tr>\n",
       "  </thead>\n",
       "  <tbody>\n",
       "    <tr>\n",
       "      <th>0</th>\n",
       "      <td>I ASKED HER TO BE MY GIRLFRIEND...</td>\n",
       "      <td>2020-08-11</td>\n",
       "      <td>UCvtRTOMP2TqYqu51xNrqAzg</td>\n",
       "      <td>Brawadis</td>\n",
       "      <td>People &amp; Blogs</td>\n",
       "      <td>2020-08-12</td>\n",
       "      <td>brawadis|prank|basketball|skits|ghost|funny vi...</td>\n",
       "      <td>1514614</td>\n",
       "      <td>156908</td>\n",
       "      <td>5855</td>\n",
       "      <td>35313</td>\n",
       "      <td>False</td>\n",
       "      <td>False</td>\n",
       "      <td>SUBSCRIBE to BRAWADIS ▶ http://bit.ly/Subscrib...</td>\n",
       "    </tr>\n",
       "    <tr>\n",
       "      <th>1</th>\n",
       "      <td>Apex Legends | Stories from the Outlands – “Th...</td>\n",
       "      <td>2020-08-11</td>\n",
       "      <td>UC0ZV6M2THA81QT9hrVWJG3A</td>\n",
       "      <td>Apex Legends</td>\n",
       "      <td>Gaming</td>\n",
       "      <td>2020-08-12</td>\n",
       "      <td>Apex Legends|Apex Legends characters|new Apex ...</td>\n",
       "      <td>2381688</td>\n",
       "      <td>146739</td>\n",
       "      <td>2794</td>\n",
       "      <td>16549</td>\n",
       "      <td>False</td>\n",
       "      <td>False</td>\n",
       "      <td>While running her own modding shop, Ramya Pare...</td>\n",
       "    </tr>\n",
       "  </tbody>\n",
       "</table>\n",
       "</div>"
      ],
      "text/plain": [
       "                                               title publishedAt  \\\n",
       "0                 I ASKED HER TO BE MY GIRLFRIEND...  2020-08-11   \n",
       "1  Apex Legends | Stories from the Outlands – “Th...  2020-08-11   \n",
       "\n",
       "                  channelId  channelTitle      categoryId trending_date  \\\n",
       "0  UCvtRTOMP2TqYqu51xNrqAzg      Brawadis  People & Blogs    2020-08-12   \n",
       "1  UC0ZV6M2THA81QT9hrVWJG3A  Apex Legends          Gaming    2020-08-12   \n",
       "\n",
       "                                                tags  view_count   likes  \\\n",
       "0  brawadis|prank|basketball|skits|ghost|funny vi...     1514614  156908   \n",
       "1  Apex Legends|Apex Legends characters|new Apex ...     2381688  146739   \n",
       "\n",
       "   dislikes  comment_count  comments_disabled  ratings_disabled  \\\n",
       "0      5855          35313              False             False   \n",
       "1      2794          16549              False             False   \n",
       "\n",
       "                                         description  \n",
       "0  SUBSCRIBE to BRAWADIS ▶ http://bit.ly/Subscrib...  \n",
       "1  While running her own modding shop, Ramya Pare...  "
      ]
     },
     "execution_count": 11,
     "metadata": {},
     "output_type": "execute_result"
    }
   ],
   "source": [
    "df['trending_date'] = df['trending_date'].apply(clean_trending_date)\n",
    "df['publishedAt'] = df['publishedAt'].apply(clean_publish_time)\n",
    "\n",
    "#Lets check the result\n",
    "df.head(n=2)"
   ]
  },
  {
   "cell_type": "markdown",
   "id": "871250f3",
   "metadata": {
    "papermill": {
     "duration": 0.024465,
     "end_time": "2023-08-17T15:51:44.212726",
     "exception": false,
     "start_time": "2023-08-17T15:51:44.188261",
     "status": "completed"
    },
    "tags": []
   },
   "source": [
    "**Tag Splitting**\n",
    "\n",
    "Now lets clean up the **tags** column by separating tags into a list instead of one long string."
   ]
  },
  {
   "cell_type": "code",
   "execution_count": 12,
   "id": "48645209",
   "metadata": {
    "execution": {
     "iopub.execute_input": "2023-08-17T15:51:44.264649Z",
     "iopub.status.busy": "2023-08-17T15:51:44.264310Z",
     "iopub.status.idle": "2023-08-17T15:51:44.270058Z",
     "shell.execute_reply": "2023-08-17T15:51:44.268836Z"
    },
    "papermill": {
     "duration": 0.035314,
     "end_time": "2023-08-17T15:51:44.272538",
     "exception": false,
     "start_time": "2023-08-17T15:51:44.237224",
     "status": "completed"
    },
    "tags": []
   },
   "outputs": [],
   "source": [
    "def clean_tags(tag):\n",
    "    if tag == '[none]': return []\n",
    "    return tag.lower().replace('\"','').split('|')"
   ]
  },
  {
   "cell_type": "code",
   "execution_count": 13,
   "id": "36ae9b4e",
   "metadata": {
    "execution": {
     "iopub.execute_input": "2023-08-17T15:51:44.323386Z",
     "iopub.status.busy": "2023-08-17T15:51:44.323005Z",
     "iopub.status.idle": "2023-08-17T15:51:45.519777Z",
     "shell.execute_reply": "2023-08-17T15:51:45.518319Z"
    },
    "papermill": {
     "duration": 1.225931,
     "end_time": "2023-08-17T15:51:45.522891",
     "exception": false,
     "start_time": "2023-08-17T15:51:44.296960",
     "status": "completed"
    },
    "tags": []
   },
   "outputs": [
    {
     "data": {
      "text/html": [
       "<div>\n",
       "<style scoped>\n",
       "    .dataframe tbody tr th:only-of-type {\n",
       "        vertical-align: middle;\n",
       "    }\n",
       "\n",
       "    .dataframe tbody tr th {\n",
       "        vertical-align: top;\n",
       "    }\n",
       "\n",
       "    .dataframe thead th {\n",
       "        text-align: right;\n",
       "    }\n",
       "</style>\n",
       "<table border=\"1\" class=\"dataframe\">\n",
       "  <thead>\n",
       "    <tr style=\"text-align: right;\">\n",
       "      <th></th>\n",
       "      <th>title</th>\n",
       "      <th>publishedAt</th>\n",
       "      <th>channelId</th>\n",
       "      <th>channelTitle</th>\n",
       "      <th>categoryId</th>\n",
       "      <th>trending_date</th>\n",
       "      <th>tags</th>\n",
       "      <th>view_count</th>\n",
       "      <th>likes</th>\n",
       "      <th>dislikes</th>\n",
       "      <th>comment_count</th>\n",
       "      <th>comments_disabled</th>\n",
       "      <th>ratings_disabled</th>\n",
       "      <th>description</th>\n",
       "    </tr>\n",
       "  </thead>\n",
       "  <tbody>\n",
       "    <tr>\n",
       "      <th>0</th>\n",
       "      <td>I ASKED HER TO BE MY GIRLFRIEND...</td>\n",
       "      <td>2020-08-11</td>\n",
       "      <td>UCvtRTOMP2TqYqu51xNrqAzg</td>\n",
       "      <td>Brawadis</td>\n",
       "      <td>People &amp; Blogs</td>\n",
       "      <td>2020-08-12</td>\n",
       "      <td>[brawadis, prank, basketball, skits, ghost, fu...</td>\n",
       "      <td>1514614</td>\n",
       "      <td>156908</td>\n",
       "      <td>5855</td>\n",
       "      <td>35313</td>\n",
       "      <td>False</td>\n",
       "      <td>False</td>\n",
       "      <td>SUBSCRIBE to BRAWADIS ▶ http://bit.ly/Subscrib...</td>\n",
       "    </tr>\n",
       "    <tr>\n",
       "      <th>1</th>\n",
       "      <td>Apex Legends | Stories from the Outlands – “Th...</td>\n",
       "      <td>2020-08-11</td>\n",
       "      <td>UC0ZV6M2THA81QT9hrVWJG3A</td>\n",
       "      <td>Apex Legends</td>\n",
       "      <td>Gaming</td>\n",
       "      <td>2020-08-12</td>\n",
       "      <td>[apex legends, apex legends characters, new ap...</td>\n",
       "      <td>2381688</td>\n",
       "      <td>146739</td>\n",
       "      <td>2794</td>\n",
       "      <td>16549</td>\n",
       "      <td>False</td>\n",
       "      <td>False</td>\n",
       "      <td>While running her own modding shop, Ramya Pare...</td>\n",
       "    </tr>\n",
       "  </tbody>\n",
       "</table>\n",
       "</div>"
      ],
      "text/plain": [
       "                                               title publishedAt  \\\n",
       "0                 I ASKED HER TO BE MY GIRLFRIEND...  2020-08-11   \n",
       "1  Apex Legends | Stories from the Outlands – “Th...  2020-08-11   \n",
       "\n",
       "                  channelId  channelTitle      categoryId trending_date  \\\n",
       "0  UCvtRTOMP2TqYqu51xNrqAzg      Brawadis  People & Blogs    2020-08-12   \n",
       "1  UC0ZV6M2THA81QT9hrVWJG3A  Apex Legends          Gaming    2020-08-12   \n",
       "\n",
       "                                                tags  view_count   likes  \\\n",
       "0  [brawadis, prank, basketball, skits, ghost, fu...     1514614  156908   \n",
       "1  [apex legends, apex legends characters, new ap...     2381688  146739   \n",
       "\n",
       "   dislikes  comment_count  comments_disabled  ratings_disabled  \\\n",
       "0      5855          35313              False             False   \n",
       "1      2794          16549              False             False   \n",
       "\n",
       "                                         description  \n",
       "0  SUBSCRIBE to BRAWADIS ▶ http://bit.ly/Subscrib...  \n",
       "1  While running her own modding shop, Ramya Pare...  "
      ]
     },
     "execution_count": 13,
     "metadata": {},
     "output_type": "execute_result"
    }
   ],
   "source": [
    "df['tags'] = df['tags'].apply(clean_tags)\n",
    "df.head(n=2)"
   ]
  },
  {
   "cell_type": "markdown",
   "id": "ab5db736",
   "metadata": {
    "papermill": {
     "duration": 0.045092,
     "end_time": "2023-08-17T15:52:46.085419",
     "exception": false,
     "start_time": "2023-08-17T15:52:46.040327",
     "status": "completed"
    },
    "tags": []
   },
   "source": [
    "# **Preparation Before Applying Sutable ML Algorithm**"
   ]
  },
  {
   "cell_type": "code",
   "execution_count": 58,
   "id": "bf8023af",
   "metadata": {
    "execution": {
     "iopub.execute_input": "2023-08-17T15:52:46.175898Z",
     "iopub.status.busy": "2023-08-17T15:52:46.175547Z",
     "iopub.status.idle": "2023-08-17T15:52:46.191792Z",
     "shell.execute_reply": "2023-08-17T15:52:46.190999Z"
    },
    "papermill": {
     "duration": 0.063623,
     "end_time": "2023-08-17T15:52:46.193627",
     "exception": false,
     "start_time": "2023-08-17T15:52:46.130004",
     "status": "completed"
    },
    "tags": []
   },
   "outputs": [
    {
     "data": {
      "text/html": [
       "<div>\n",
       "<style scoped>\n",
       "    .dataframe tbody tr th:only-of-type {\n",
       "        vertical-align: middle;\n",
       "    }\n",
       "\n",
       "    .dataframe tbody tr th {\n",
       "        vertical-align: top;\n",
       "    }\n",
       "\n",
       "    .dataframe thead th {\n",
       "        text-align: right;\n",
       "    }\n",
       "</style>\n",
       "<table border=\"1\" class=\"dataframe\">\n",
       "  <thead>\n",
       "    <tr style=\"text-align: right;\">\n",
       "      <th></th>\n",
       "      <th>title</th>\n",
       "      <th>publishedAt</th>\n",
       "      <th>channelId</th>\n",
       "      <th>channelTitle</th>\n",
       "      <th>categoryId</th>\n",
       "      <th>trending_date</th>\n",
       "      <th>tags</th>\n",
       "      <th>view_count</th>\n",
       "      <th>likes</th>\n",
       "      <th>dislikes</th>\n",
       "      <th>comment_count</th>\n",
       "      <th>description</th>\n",
       "      <th>title_cl</th>\n",
       "    </tr>\n",
       "  </thead>\n",
       "  <tbody>\n",
       "    <tr>\n",
       "      <th>0</th>\n",
       "      <td>I ASKED HER TO BE MY GIRLFRIEND...</td>\n",
       "      <td>2020-08-11</td>\n",
       "      <td>UCvtRTOMP2TqYqu51xNrqAzg</td>\n",
       "      <td>Brawadis</td>\n",
       "      <td>People &amp; Blogs</td>\n",
       "      <td>2020-08-12</td>\n",
       "      <td>[brawadis, prank, basketball, skits, ghost, fu...</td>\n",
       "      <td>1514614</td>\n",
       "      <td>156908</td>\n",
       "      <td>5855</td>\n",
       "      <td>35313</td>\n",
       "      <td>SUBSCRIBE to BRAWADIS ▶ http://bit.ly/Subscrib...</td>\n",
       "      <td>asked</td>\n",
       "    </tr>\n",
       "    <tr>\n",
       "      <th>1</th>\n",
       "      <td>Apex Legends | Stories from the Outlands – “Th...</td>\n",
       "      <td>2020-08-11</td>\n",
       "      <td>UC0ZV6M2THA81QT9hrVWJG3A</td>\n",
       "      <td>Apex Legends</td>\n",
       "      <td>Gaming</td>\n",
       "      <td>2020-08-12</td>\n",
       "      <td>[apex legends, apex legends characters, new ap...</td>\n",
       "      <td>2381688</td>\n",
       "      <td>146739</td>\n",
       "      <td>2794</td>\n",
       "      <td>16549</td>\n",
       "      <td>While running her own modding shop, Ramya Pare...</td>\n",
       "      <td>apex legends stories outlands</td>\n",
       "    </tr>\n",
       "  </tbody>\n",
       "</table>\n",
       "</div>"
      ],
      "text/plain": [
       "                                               title publishedAt  \\\n",
       "0                 I ASKED HER TO BE MY GIRLFRIEND...  2020-08-11   \n",
       "1  Apex Legends | Stories from the Outlands – “Th...  2020-08-11   \n",
       "\n",
       "                  channelId  channelTitle      categoryId trending_date  \\\n",
       "0  UCvtRTOMP2TqYqu51xNrqAzg      Brawadis  People & Blogs    2020-08-12   \n",
       "1  UC0ZV6M2THA81QT9hrVWJG3A  Apex Legends          Gaming    2020-08-12   \n",
       "\n",
       "                                                tags  view_count   likes  \\\n",
       "0  [brawadis, prank, basketball, skits, ghost, fu...     1514614  156908   \n",
       "1  [apex legends, apex legends characters, new ap...     2381688  146739   \n",
       "\n",
       "   dislikes  comment_count                                        description  \\\n",
       "0      5855          35313  SUBSCRIBE to BRAWADIS ▶ http://bit.ly/Subscrib...   \n",
       "1      2794          16549  While running her own modding shop, Ramya Pare...   \n",
       "\n",
       "                        title_cl  \n",
       "0                          asked  \n",
       "1  apex legends stories outlands  "
      ]
     },
     "execution_count": 58,
     "metadata": {},
     "output_type": "execute_result"
    }
   ],
   "source": [
    "df.head(n=2)"
   ]
  },
  {
   "cell_type": "markdown",
   "id": "ddfccc9c",
   "metadata": {
    "papermill": {
     "duration": 0.048259,
     "end_time": "2023-08-17T15:52:46.287785",
     "exception": false,
     "start_time": "2023-08-17T15:52:46.239526",
     "status": "completed"
    },
    "tags": []
   },
   "source": [
    "**Data Pre-Procesing**\n",
    "\n",
    "Let's start with data preprocessing.\n",
    "\n",
    ">**Handling Missing Values**: Check for missing values in the dataset and decide on a strategy to handle them. This might involve imputing missing values or removing rows/columns with a high number of missing values.\n",
    "\n",
    ">**Encoding Categorical Variables**: Convert categorical variables (like \"category\" or \"channelTitle\") into numerical representations using techniques like one-hot encoding or label encoding.\n",
    "\n",
    ">**Feature Scaling**: Scale numerical features to have similar ranges. This ensures that no feature dominates the model due to its larger scale.\n",
    "\n",
    ">**Train-Test Split**: Split the dataset into training and testing sets. The training set will be used to train the model, and the testing set will be used to evaluate its performance.\n",
    "\n",
    ">**Feature Selection**: Select the relevant features that you'll use for prediction. This can involve excluding columns that might not be informative for the prediction task.\n",
    "\n",
    ">**Handling Date-Time Data**: If you have date-time columns (like \"publishedAt\" or \"trending_date\"), convert them to appropriate date-time formats and extract relevant features (e.g., day of the week, month, year) that might impact video trends."
   ]
  },
  {
   "cell_type": "code",
   "execution_count": 59,
   "id": "52965a23",
   "metadata": {
    "execution": {
     "iopub.execute_input": "2023-08-17T15:52:46.383868Z",
     "iopub.status.busy": "2023-08-17T15:52:46.383461Z",
     "iopub.status.idle": "2023-08-17T15:52:46.416089Z",
     "shell.execute_reply": "2023-08-17T15:52:46.415172Z"
    },
    "papermill": {
     "duration": 0.082293,
     "end_time": "2023-08-17T15:52:46.417742",
     "exception": false,
     "start_time": "2023-08-17T15:52:46.335449",
     "status": "completed"
    },
    "tags": []
   },
   "outputs": [
    {
     "data": {
      "text/html": [
       "<div>\n",
       "<style scoped>\n",
       "    .dataframe tbody tr th:only-of-type {\n",
       "        vertical-align: middle;\n",
       "    }\n",
       "\n",
       "    .dataframe tbody tr th {\n",
       "        vertical-align: top;\n",
       "    }\n",
       "\n",
       "    .dataframe thead th {\n",
       "        text-align: right;\n",
       "    }\n",
       "</style>\n",
       "<table border=\"1\" class=\"dataframe\">\n",
       "  <thead>\n",
       "    <tr style=\"text-align: right;\">\n",
       "      <th></th>\n",
       "      <th>title</th>\n",
       "      <th>publishedAt</th>\n",
       "      <th>channelId</th>\n",
       "      <th>channelTitle</th>\n",
       "      <th>categoryId</th>\n",
       "      <th>trending_date</th>\n",
       "      <th>tags</th>\n",
       "      <th>view_count</th>\n",
       "      <th>likes</th>\n",
       "      <th>dislikes</th>\n",
       "      <th>comment_count</th>\n",
       "    </tr>\n",
       "  </thead>\n",
       "  <tbody>\n",
       "    <tr>\n",
       "      <th>0</th>\n",
       "      <td>I ASKED HER TO BE MY GIRLFRIEND...</td>\n",
       "      <td>2020-08-11</td>\n",
       "      <td>UCvtRTOMP2TqYqu51xNrqAzg</td>\n",
       "      <td>Brawadis</td>\n",
       "      <td>People &amp; Blogs</td>\n",
       "      <td>2020-08-12</td>\n",
       "      <td>[brawadis, prank, basketball, skits, ghost, fu...</td>\n",
       "      <td>1514614</td>\n",
       "      <td>156908</td>\n",
       "      <td>5855</td>\n",
       "      <td>35313</td>\n",
       "    </tr>\n",
       "    <tr>\n",
       "      <th>1</th>\n",
       "      <td>Apex Legends | Stories from the Outlands – “Th...</td>\n",
       "      <td>2020-08-11</td>\n",
       "      <td>UC0ZV6M2THA81QT9hrVWJG3A</td>\n",
       "      <td>Apex Legends</td>\n",
       "      <td>Gaming</td>\n",
       "      <td>2020-08-12</td>\n",
       "      <td>[apex legends, apex legends characters, new ap...</td>\n",
       "      <td>2381688</td>\n",
       "      <td>146739</td>\n",
       "      <td>2794</td>\n",
       "      <td>16549</td>\n",
       "    </tr>\n",
       "  </tbody>\n",
       "</table>\n",
       "</div>"
      ],
      "text/plain": [
       "                                               title publishedAt  \\\n",
       "0                 I ASKED HER TO BE MY GIRLFRIEND...  2020-08-11   \n",
       "1  Apex Legends | Stories from the Outlands – “Th...  2020-08-11   \n",
       "\n",
       "                  channelId  channelTitle      categoryId trending_date  \\\n",
       "0  UCvtRTOMP2TqYqu51xNrqAzg      Brawadis  People & Blogs    2020-08-12   \n",
       "1  UC0ZV6M2THA81QT9hrVWJG3A  Apex Legends          Gaming    2020-08-12   \n",
       "\n",
       "                                                tags  view_count   likes  \\\n",
       "0  [brawadis, prank, basketball, skits, ghost, fu...     1514614  156908   \n",
       "1  [apex legends, apex legends characters, new ap...     2381688  146739   \n",
       "\n",
       "   dislikes  comment_count  \n",
       "0      5855          35313  \n",
       "1      2794          16549  "
      ]
     },
     "execution_count": 59,
     "metadata": {},
     "output_type": "execute_result"
    }
   ],
   "source": [
    "#First lets copy the dataset so that we dont lose it\n",
    "df_c = df\n",
    "\n",
    "#Lets drop description and title_cl as those wont be nececary for our traning.\n",
    "df_c.drop(columns=['description', 'title_cl'], inplace=True)\n",
    "\n",
    "df_c.head(n=2)"
   ]
  },
  {
   "cell_type": "markdown",
   "id": "3326c326",
   "metadata": {
    "papermill": {
     "duration": 0.04538,
     "end_time": "2023-08-17T15:52:46.506863",
     "exception": false,
     "start_time": "2023-08-17T15:52:46.461483",
     "status": "completed"
    },
    "tags": []
   },
   "source": [
    "**Outlier Minimization**"
   ]
  },
  {
   "cell_type": "code",
   "execution_count": 60,
   "id": "aca7b39f",
   "metadata": {
    "execution": {
     "iopub.execute_input": "2023-08-17T15:52:46.596803Z",
     "iopub.status.busy": "2023-08-17T15:52:46.596462Z",
     "iopub.status.idle": "2023-08-17T15:52:47.477866Z",
     "shell.execute_reply": "2023-08-17T15:52:47.476742Z"
    },
    "papermill": {
     "duration": 0.929577,
     "end_time": "2023-08-17T15:52:47.480304",
     "exception": false,
     "start_time": "2023-08-17T15:52:46.550727",
     "status": "completed"
    },
    "tags": []
   },
   "outputs": [
    {
     "data": {
      "image/png": "[encoded data removed]",
      "text/plain": [
       "<Figure size 1500x500 with 4 Axes>"
      ]
     },
     "metadata": {},
     "output_type": "display_data"
    }
   ],
   "source": [
    "# Select numerical features for plotting\n",
    "numerical_features = ['view_count', 'likes', 'dislikes', 'comment_count']\n",
    "\n",
    "# Create subplots for zoomed-in box plots\n",
    "plt.figure(figsize=(15, 5))\n",
    "for i, feature in enumerate(numerical_features, 1):\n",
    "    plt.subplot(1, 4, i)\n",
    "    sns.boxplot(x=df_c[feature])\n",
    "    plt.xlim(df_c[feature].quantile(0.05), df_c[feature].quantile(0.95))  # Zoom in on the interquartile range\n",
    "    plt.title(f'Boxplot of {feature}')\n",
    "    \n",
    "plt.tight_layout()\n",
    "plt.show()"
   ]
  },
  {
   "cell_type": "markdown",
   "id": "75f8234d",
   "metadata": {
    "papermill": {
     "duration": 0.046039,
     "end_time": "2023-08-17T15:52:47.572197",
     "exception": false,
     "start_time": "2023-08-17T15:52:47.526158",
     "status": "completed"
    },
    "tags": []
   },
   "source": [
    "It seems like the varialbes have outlirs but top videos that become trending is ment to have abnormal values so we cant eliminate them."
   ]
  },
  {
   "cell_type": "markdown",
   "id": "2a55b9f8",
   "metadata": {
    "papermill": {
     "duration": 0.045135,
     "end_time": "2023-08-17T15:52:47.663745",
     "exception": false,
     "start_time": "2023-08-17T15:52:47.618610",
     "status": "completed"
    },
    "tags": []
   },
   "source": [
    "**Adding Important Calculations**\n",
    "\n",
    "Lets add some important calculations into our dataset before we separate our dataset.\n",
    ">Notable calculations:\n",
    "engagement_rate, like_dislike_ratio, comment_view_ratio, dislikes_per_comment, days_since_publication, likes_per_day, comments_per_day, view_velocity."
   ]
  },
  {
   "cell_type": "code",
   "execution_count": 61,
   "id": "d2424aa1",
   "metadata": {
    "execution": {
     "iopub.execute_input": "2023-08-17T15:52:47.758876Z",
     "iopub.status.busy": "2023-08-17T15:52:47.758308Z",
     "iopub.status.idle": "2023-08-17T15:52:47.852735Z",
     "shell.execute_reply": "2023-08-17T15:52:47.852059Z"
    },
    "papermill": {
     "duration": 0.14453,
     "end_time": "2023-08-17T15:52:47.854405",
     "exception": false,
     "start_time": "2023-08-17T15:52:47.709875",
     "status": "completed"
    },
    "tags": []
   },
   "outputs": [
    {
     "data": {
      "text/html": [
       "<div>\n",
       "<style scoped>\n",
       "    .dataframe tbody tr th:only-of-type {\n",
       "        vertical-align: middle;\n",
       "    }\n",
       "\n",
       "    .dataframe tbody tr th {\n",
       "        vertical-align: top;\n",
       "    }\n",
       "\n",
       "    .dataframe thead th {\n",
       "        text-align: right;\n",
       "    }\n",
       "</style>\n",
       "<table border=\"1\" class=\"dataframe\">\n",
       "  <thead>\n",
       "    <tr style=\"text-align: right;\">\n",
       "      <th></th>\n",
       "      <th>title</th>\n",
       "      <th>publishedAt</th>\n",
       "      <th>channelId</th>\n",
       "      <th>channelTitle</th>\n",
       "      <th>categoryId</th>\n",
       "      <th>trending_date</th>\n",
       "      <th>tags</th>\n",
       "      <th>view_count</th>\n",
       "      <th>likes</th>\n",
       "      <th>dislikes</th>\n",
       "      <th>comment_count</th>\n",
       "      <th>engagement_rate</th>\n",
       "      <th>like_dislike_ratio</th>\n",
       "      <th>comment_view_ratio</th>\n",
       "      <th>dislikes_per_comment</th>\n",
       "      <th>days_since_publication</th>\n",
       "      <th>likes_per_day</th>\n",
       "      <th>comments_per_day</th>\n",
       "      <th>view_velocity</th>\n",
       "    </tr>\n",
       "  </thead>\n",
       "  <tbody>\n",
       "    <tr>\n",
       "      <th>0</th>\n",
       "      <td>I ASKED HER TO BE MY GIRLFRIEND...</td>\n",
       "      <td>2020-08-11</td>\n",
       "      <td>UCvtRTOMP2TqYqu51xNrqAzg</td>\n",
       "      <td>Brawadis</td>\n",
       "      <td>People &amp; Blogs</td>\n",
       "      <td>2020-08-12</td>\n",
       "      <td>[brawadis, prank, basketball, skits, ghost, fu...</td>\n",
       "      <td>1514614</td>\n",
       "      <td>156908</td>\n",
       "      <td>5855</td>\n",
       "      <td>35313</td>\n",
       "      <td>0.130777</td>\n",
       "      <td>26.798975</td>\n",
       "      <td>0.023315</td>\n",
       "      <td>0.165803</td>\n",
       "      <td>1</td>\n",
       "      <td>156907.843092</td>\n",
       "      <td>35312.964687</td>\n",
       "      <td>7.115336</td>\n",
       "    </tr>\n",
       "    <tr>\n",
       "      <th>1</th>\n",
       "      <td>Apex Legends | Stories from the Outlands – “Th...</td>\n",
       "      <td>2020-08-11</td>\n",
       "      <td>UC0ZV6M2THA81QT9hrVWJG3A</td>\n",
       "      <td>Apex Legends</td>\n",
       "      <td>Gaming</td>\n",
       "      <td>2020-08-12</td>\n",
       "      <td>[apex legends, apex legends characters, new ap...</td>\n",
       "      <td>2381688</td>\n",
       "      <td>146739</td>\n",
       "      <td>2794</td>\n",
       "      <td>16549</td>\n",
       "      <td>0.069733</td>\n",
       "      <td>52.519327</td>\n",
       "      <td>0.006948</td>\n",
       "      <td>0.168832</td>\n",
       "      <td>1</td>\n",
       "      <td>146738.853261</td>\n",
       "      <td>16548.983451</td>\n",
       "      <td>7.341660</td>\n",
       "    </tr>\n",
       "  </tbody>\n",
       "</table>\n",
       "</div>"
      ],
      "text/plain": [
       "                                               title publishedAt  \\\n",
       "0                 I ASKED HER TO BE MY GIRLFRIEND...  2020-08-11   \n",
       "1  Apex Legends | Stories from the Outlands – “Th...  2020-08-11   \n",
       "\n",
       "                  channelId  channelTitle      categoryId trending_date  \\\n",
       "0  UCvtRTOMP2TqYqu51xNrqAzg      Brawadis  People & Blogs    2020-08-12   \n",
       "1  UC0ZV6M2THA81QT9hrVWJG3A  Apex Legends          Gaming    2020-08-12   \n",
       "\n",
       "                                                tags  view_count   likes  \\\n",
       "0  [brawadis, prank, basketball, skits, ghost, fu...     1514614  156908   \n",
       "1  [apex legends, apex legends characters, new ap...     2381688  146739   \n",
       "\n",
       "   dislikes  comment_count  engagement_rate  like_dislike_ratio  \\\n",
       "0      5855          35313         0.130777           26.798975   \n",
       "1      2794          16549         0.069733           52.519327   \n",
       "\n",
       "   comment_view_ratio  dislikes_per_comment  days_since_publication  \\\n",
       "0            0.023315              0.165803                       1   \n",
       "1            0.006948              0.168832                       1   \n",
       "\n",
       "   likes_per_day  comments_per_day  view_velocity  \n",
       "0  156907.843092      35312.964687       7.115336  \n",
       "1  146738.853261      16548.983451       7.341660  "
      ]
     },
     "execution_count": 61,
     "metadata": {},
     "output_type": "execute_result"
    }
   ],
   "source": [
    "# Calculate engagement_rate, like_dislike_ratio, comment_view_ratio, dislikes_per_comment\n",
    "df_c['engagement_rate'] = (df_c['likes'] + df_c['dislikes'] + df_c['comment_count']) / (df_c['view_count'] + 1e-6)\n",
    "df_c['like_dislike_ratio'] = df_c['likes'] / (df_c['dislikes'] + 1e-6)\n",
    "df_c['comment_view_ratio'] = df_c['comment_count'] / (df_c['view_count'] + 1e-6)\n",
    "df_c['dislikes_per_comment'] = df_c['dislikes'] / (df_c['comment_count'] + 1e-6)\n",
    "\n",
    "# Calculate days_since_publication, likes_per_day, comments_per_day, view_velocity\n",
    "df_c['trending_date'] = pd.to_datetime(df_c['trending_date'], format='%Y-%m-%d')\n",
    "df_c['days_since_publication'] = (df_c['trending_date'] - pd.to_datetime(df_c['publishedAt'])).dt.days\n",
    "df_c['likes_per_day'] = df_c['likes'] / (df_c['days_since_publication'] + 1e-6)\n",
    "df_c['comments_per_day'] = df_c['comment_count'] / (df_c['days_since_publication'] + 1e-6)\n",
    "df_c['view_velocity'] = np.log(df_c['view_count'] + 1) / (df_c['days_since_publication'] + 1)\n",
    "\n",
    "df_c.head(n=2)"
   ]
  },
  {
   "cell_type": "code",
   "execution_count": 62,
   "id": "e3f380f3",
   "metadata": {
    "execution": {
     "iopub.execute_input": "2023-08-17T15:52:47.947303Z",
     "iopub.status.busy": "2023-08-17T15:52:47.946499Z",
     "iopub.status.idle": "2023-08-17T15:52:48.141391Z",
     "shell.execute_reply": "2023-08-17T15:52:48.139989Z"
    },
    "papermill": {
     "duration": 0.244953,
     "end_time": "2023-08-17T15:52:48.143365",
     "exception": false,
     "start_time": "2023-08-17T15:52:47.898412",
     "status": "completed"
    },
    "tags": []
   },
   "outputs": [
    {
     "name": "stdout",
     "output_type": "stream",
     "text": [
      "title                     0\n",
      "publishedAt               0\n",
      "channelId                 0\n",
      "channelTitle              0\n",
      "categoryId                0\n",
      "trending_date             0\n",
      "tags                      0\n",
      "view_count                0\n",
      "likes                     0\n",
      "dislikes                  0\n",
      "comment_count             0\n",
      "engagement_rate           0\n",
      "like_dislike_ratio        0\n",
      "comment_view_ratio        0\n",
      "dislikes_per_comment      0\n",
      "days_since_publication    0\n",
      "likes_per_day             0\n",
      "comments_per_day          0\n",
      "view_velocity             0\n",
      "dtype: int64\n"
     ]
    }
   ],
   "source": [
    "#Lets check if any new cell has any nulls or not\n",
    "print(df_c.isna().sum())"
   ]
  },
  {
   "cell_type": "markdown",
   "id": "b2d77b39",
   "metadata": {
    "papermill": {
     "duration": 0.045979,
     "end_time": "2023-08-17T15:52:48.234391",
     "exception": false,
     "start_time": "2023-08-17T15:52:48.188412",
     "status": "completed"
    },
    "tags": []
   },
   "source": [
    "It seems like there are some NaN's in the added dataset so lets replace them with median as it has little impact with potential outlares."
   ]
  },
  {
   "cell_type": "code",
   "execution_count": 63,
   "id": "09fe3f98",
   "metadata": {
    "execution": {
     "iopub.execute_input": "2023-08-17T15:52:48.326843Z",
     "iopub.status.busy": "2023-08-17T15:52:48.326478Z",
     "iopub.status.idle": "2023-08-17T15:52:48.343617Z",
     "shell.execute_reply": "2023-08-17T15:52:48.342347Z"
    },
    "papermill": {
     "duration": 0.06697,
     "end_time": "2023-08-17T15:52:48.345944",
     "exception": false,
     "start_time": "2023-08-17T15:52:48.278974",
     "status": "completed"
    },
    "tags": []
   },
   "outputs": [],
   "source": [
    "# Calculate the median of the 'dislikes_per_comment' column\n",
    "median_dislikes_per_comment = df_c['dislikes_per_comment'].median()\n",
    "\n",
    "# Fill missing values with the median\n",
    "df_c['dislikes_per_comment'].fillna(median_dislikes_per_comment, inplace=True)\n",
    "\n",
    "# Calculate the median of the 'comments_per_day' column\n",
    "median_comments_per_day = df_c['comments_per_day'].median()\n",
    "\n",
    "# Fill missing values with the median\n",
    "df_c['comments_per_day'].fillna(median_comments_per_day, inplace=True)\n",
    "\n",
    "# Calculate the median of the 'view_velocity' column\n",
    "median_view_velocity = df_c['view_velocity'].median()\n",
    "\n",
    "# Fill missing values with the median\n",
    "df_c['view_velocity'].fillna(median_view_velocity, inplace=True)"
   ]
  },
  {
   "cell_type": "code",
   "execution_count": 64,
   "id": "37e91b7b",
   "metadata": {
    "execution": {
     "iopub.execute_input": "2023-08-17T15:52:48.439912Z",
     "iopub.status.busy": "2023-08-17T15:52:48.439458Z",
     "iopub.status.idle": "2023-08-17T15:52:48.644652Z",
     "shell.execute_reply": "2023-08-17T15:52:48.643803Z"
    },
    "papermill": {
     "duration": 0.256635,
     "end_time": "2023-08-17T15:52:48.646580",
     "exception": false,
     "start_time": "2023-08-17T15:52:48.389945",
     "status": "completed"
    },
    "tags": []
   },
   "outputs": [
    {
     "name": "stdout",
     "output_type": "stream",
     "text": [
      "title                     0\n",
      "publishedAt               0\n",
      "channelId                 0\n",
      "channelTitle              0\n",
      "categoryId                0\n",
      "trending_date             0\n",
      "tags                      0\n",
      "view_count                0\n",
      "likes                     0\n",
      "dislikes                  0\n",
      "comment_count             0\n",
      "engagement_rate           0\n",
      "like_dislike_ratio        0\n",
      "comment_view_ratio        0\n",
      "dislikes_per_comment      0\n",
      "days_since_publication    0\n",
      "likes_per_day             0\n",
      "comments_per_day          0\n",
      "view_velocity             0\n",
      "dtype: int64\n"
     ]
    }
   ],
   "source": [
    "#Lets check if any new cell has any nulls or not\n",
    "print(df_c.isna().sum())"
   ]
  },
  {
   "cell_type": "markdown",
   "id": "481c200e",
   "metadata": {
    "papermill": {
     "duration": 0.045118,
     "end_time": "2023-08-17T15:52:48.736073",
     "exception": false,
     "start_time": "2023-08-17T15:52:48.690955",
     "status": "completed"
    },
    "tags": []
   },
   "source": [
    "**Dataset Separation**\n",
    "\n",
    "We are going to separate our dataset based on publishedAt\n",
    "\n",
    "First dataset will be from (2020-2021) for training perpose.\n",
    "\n",
    "Second dataset will be from 2022 to see the accuracy.\n",
    "\n",
    "Finally the Third dataset will be used to predict the current top trending videos in the dataset."
   ]
  },
  {
   "cell_type": "code",
   "execution_count": 65,
   "id": "eaefd2e5",
   "metadata": {
    "execution": {
     "iopub.execute_input": "2023-08-17T15:52:48.828449Z",
     "iopub.status.busy": "2023-08-17T15:52:48.827953Z",
     "iopub.status.idle": "2023-08-17T15:52:48.920893Z",
     "shell.execute_reply": "2023-08-17T15:52:48.919954Z"
    },
    "papermill": {
     "duration": 0.141437,
     "end_time": "2023-08-17T15:52:48.922788",
     "exception": false,
     "start_time": "2023-08-17T15:52:48.781351",
     "status": "completed"
    },
    "tags": []
   },
   "outputs": [
    {
     "name": "stdout",
     "output_type": "stream",
     "text": [
      "Training data shape: (100776, 19)\n",
      "Testing data shape: (72108, 19)\n",
      "Prediction data shape: (43828, 19)\n"
     ]
    }
   ],
   "source": [
    "# Convert 'publishedAt' column to datetime objects\n",
    "df_c['publishedAt'] = pd.to_datetime(df_c['publishedAt'])\n",
    "\n",
    "# Define date ranges\n",
    "start_date_2020 = pd.to_datetime('2020-01-01')\n",
    "end_date_2021 = pd.to_datetime('2021-12-31')\n",
    "start_date_2022 = pd.to_datetime('2022-01-01')\n",
    "start_date_2023 = pd.to_datetime('2023-01-01')\n",
    "\n",
    "# Split the dataset into three based on the specified years\n",
    "train_data = df_c[(df_c['publishedAt'] >= start_date_2020) & (df_c['publishedAt'] <= end_date_2021)]\n",
    "test_data = df_c[(df_c['publishedAt'] >= start_date_2022) & (df_c['publishedAt'] <= start_date_2022 + pd.DateOffset(years=1, days=-1))]\n",
    "prediction_data = df_c[df_c['publishedAt'] >= start_date_2023]\n",
    "\n",
    "# Display the shape of each dataset\n",
    "print(\"Training data shape:\", train_data.shape)\n",
    "print(\"Testing data shape:\", test_data.shape)\n",
    "print(\"Prediction data shape:\", prediction_data.shape)"
   ]
  },
  {
   "cell_type": "markdown",
   "id": "72b3188a",
   "metadata": {
    "papermill": {
     "duration": 0.045122,
     "end_time": "2023-08-17T15:52:49.013918",
     "exception": false,
     "start_time": "2023-08-17T15:52:48.968796",
     "status": "completed"
    },
    "tags": []
   },
   "source": [
    "# **Applying Sutable Meachine Learning Model: Random Forest(Random Forest Regressor)**"
   ]
  },
  {
   "cell_type": "markdown",
   "id": "588447da",
   "metadata": {
    "papermill": {
     "duration": 0.044942,
     "end_time": "2023-08-17T15:52:49.104935",
     "exception": false,
     "start_time": "2023-08-17T15:52:49.059993",
     "status": "completed"
    },
    "tags": []
   },
   "source": [
    "**Training The Model**\n",
    "\n",
    "We are going to train the model based on features (variables we had and the ones we added to help the model)."
   ]
  },
  {
   "cell_type": "code",
   "execution_count": 66,
   "id": "2ac567ff",
   "metadata": {
    "execution": {
     "iopub.execute_input": "2023-08-17T15:52:49.198016Z",
     "iopub.status.busy": "2023-08-17T15:52:49.197459Z",
     "iopub.status.idle": "2023-08-17T15:55:06.091075Z",
     "shell.execute_reply": "2023-08-17T15:55:06.089070Z"
    },
    "papermill": {
     "duration": 136.943554,
     "end_time": "2023-08-17T15:55:06.093842",
     "exception": false,
     "start_time": "2023-08-17T15:52:49.150288",
     "status": "completed"
    },
    "tags": []
   },
   "outputs": [],
   "source": [
    "# Selecting features for training\n",
    "features = ['view_count', 'likes', 'dislikes', 'comment_count', 'engagement_rate', 'like_dislike_ratio', \n",
    "            'comment_view_ratio', 'dislikes_per_comment', 'days_since_publication', 'likes_per_day', \n",
    "            'comments_per_day']\n",
    "\n",
    "# Split the data into features and target variable\n",
    "X_train = train_data[features]\n",
    "y_train = train_data['view_velocity']\n",
    "\n",
    "X_test = test_data[features]\n",
    "\n",
    "# Initialize and train the RandomForestRegressor model\n",
    "model = RandomForestRegressor(n_estimators=132, random_state=0)\n",
    "model.fit(X_train, y_train)\n",
    "\n",
    "# Make predictions on the test data\n",
    "y_pred = model.predict(X_test)\n",
    "\n",
    "# Extract the 'view_velocity' column from test_data\n",
    "y_test = test_data['view_velocity']\n",
    "\n",
    "# Calculate Mean Squared Error (MSE)\n",
    "#mse = mean_squared_error(y_test, y_pred)"
   ]
  },
  {
   "cell_type": "code",
   "execution_count": 67,
   "id": "8342c4e4",
   "metadata": {
    "execution": {
     "iopub.execute_input": "2023-08-17T15:55:06.193044Z",
     "iopub.status.busy": "2023-08-17T15:55:06.192603Z",
     "iopub.status.idle": "2023-08-17T15:55:06.205652Z",
     "shell.execute_reply": "2023-08-17T15:55:06.203972Z"
    },
    "papermill": {
     "duration": 0.06731,
     "end_time": "2023-08-17T15:55:06.207887",
     "exception": false,
     "start_time": "2023-08-17T15:55:06.140577",
     "status": "completed"
    },
    "tags": []
   },
   "outputs": [
    {
     "name": "stdout",
     "output_type": "stream",
     "text": [
      "Features with infinity values: Index([], dtype='object')\n",
      "Features with very large values: Index(['engagement_rate', 'like_dislike_ratio', 'dislikes_per_comment',\n",
      "       'likes_per_day', 'comments_per_day'],\n",
      "      dtype='object')\n"
     ]
    }
   ],
   "source": [
    "# Check for infinity values in X_train\n",
    "inf_mask = np.isinf(X_train)\n",
    "inf_columns = X_train.columns[inf_mask.any()]\n",
    "\n",
    "# Check for very large values in X_train\n",
    "large_mask = np.abs(X_train) > 1e10\n",
    "large_columns = X_train.columns[large_mask.any()]\n",
    "\n",
    "print(\"Features with infinity values:\", inf_columns)\n",
    "print(\"Features with very large values:\", large_columns)"
   ]
  },
  {
   "cell_type": "markdown",
   "id": "686802fb",
   "metadata": {
    "papermill": {
     "duration": 0.051352,
     "end_time": "2023-08-17T15:55:06.310318",
     "exception": false,
     "start_time": "2023-08-17T15:55:06.258966",
     "status": "completed"
    },
    "tags": []
   },
   "source": [
    "**Let's See The Accuracy Based On It's Own Dataset**\n",
    "\n"
   ]
  },
  {
   "cell_type": "code",
   "execution_count": 68,
   "id": "822b8f3f",
   "metadata": {
    "execution": {
     "iopub.execute_input": "2023-08-17T15:55:06.406110Z",
     "iopub.status.busy": "2023-08-17T15:55:06.405720Z",
     "iopub.status.idle": "2023-08-17T15:55:07.577350Z",
     "shell.execute_reply": "2023-08-17T15:55:07.575985Z"
    },
    "papermill": {
     "duration": 1.221443,
     "end_time": "2023-08-17T15:55:07.579699",
     "exception": false,
     "start_time": "2023-08-17T15:55:06.358256",
     "status": "completed"
    },
    "tags": []
   },
   "outputs": [
    {
     "name": "stdout",
     "output_type": "stream",
     "text": [
      "Mean Squared Error: 0.00017227033209107453\n",
      "Root Mean Squared Error: 0.01312517931653029\n",
      "Mean Absolute Error: 0.0004692184304676931\n",
      "Explained Variance Score: 0.9999214851333389\n"
     ]
    },
    {
     "data": {
      "image/png": "[encoded data removed]",
      "text/plain": [
       "<Figure size 640x480 with 1 Axes>"
      ]
     },
     "metadata": {},
     "output_type": "display_data"
    },
    {
     "data": {
      "image/png": "[encoded data removed]",
      "text/plain": [
       "<Figure size 640x480 with 1 Axes>"
      ]
     },
     "metadata": {},
     "output_type": "display_data"
    },
    {
     "data": {
      "image/png": "[encoded data removed]",
      "text/plain": [
       "<Figure size 640x480 with 1 Axes>"
      ]
     },
     "metadata": {},
     "output_type": "display_data"
    }
   ],
   "source": [
    "# Calculate Mean Squared Error (MSE)\n",
    "mse = mean_squared_error(y_test, y_pred)\n",
    "print(\"Mean Squared Error:\", mse)\n",
    "\n",
    "# Calculate Root Mean Squared Error (RMSE)\n",
    "rmse = np.sqrt(mse)\n",
    "print(\"Root Mean Squared Error:\", rmse)\n",
    "\n",
    "# Calculate Mean Absolute Error (MAE)\n",
    "mae = mean_absolute_error(y_test, y_pred)\n",
    "print(\"Mean Absolute Error:\", mae)\n",
    "\n",
    "# Calculate Explained Variance Score\n",
    "evs = explained_variance_score(y_test, y_pred)\n",
    "print(\"Explained Variance Score:\", evs)\n",
    "\n",
    "# Plot Residuals\n",
    "residuals = y_test - y_pred\n",
    "plt.scatter(y_pred, residuals)\n",
    "plt.axhline(y=0, color='r', linestyle='--')\n",
    "plt.xlabel('Predicted Values')\n",
    "plt.ylabel('Residuals')\n",
    "plt.title('Residual Plot')\n",
    "plt.show()\n",
    "\n",
    "# Quantile-Quantile (Q-Q) Plot of Residuals\n",
    "import statsmodels.api as sm\n",
    "qqplot = sm.qqplot(residuals, line='s')\n",
    "plt.title('Q-Q Plot of Residuals')\n",
    "plt.show()\n",
    "\n",
    "# Visualize Predicted vs Actual Values\n",
    "plt.scatter(y_test, y_pred)\n",
    "plt.xlabel('Actual Values')\n",
    "plt.ylabel('Predicted Values')\n",
    "plt.title('Actual vs Predicted Values')\n",
    "plt.show()"
   ]
  },
  {
   "cell_type": "markdown",
   "id": "a641b8af",
   "metadata": {
    "papermill": {
     "duration": 0.045801,
     "end_time": "2023-08-17T15:55:07.675120",
     "exception": false,
     "start_time": "2023-08-17T15:55:07.629319",
     "status": "completed"
    },
    "tags": []
   },
   "source": [
    "These updated evaluation metrics indicate a significant improvement in your model's performance. The Mean Squared Error, Root Mean Squared Error, Mean Absolute Error, and Explained Variance Score are all much closer to ideal values, suggesting that your model is now capturing the relationships between the features and target variable more accurately. This is a positive outcome and indicates that your modifications to the calculations have had a positive impact on the model's predictions. Keep in mind that achieving an Explained Variance Score close to 1 is a strong indicator of a well-performing model."
   ]
  },
  {
   "cell_type": "markdown",
   "id": "d0f5735e",
   "metadata": {
    "papermill": {
     "duration": 0.047478,
     "end_time": "2023-08-17T15:55:07.768487",
     "exception": false,
     "start_time": "2023-08-17T15:55:07.721009",
     "status": "completed"
    },
    "tags": []
   },
   "source": [
    "**Testing on Test Dataset**\n",
    "\n",
    "Lets test on test dataset to see how the model really behave in real life senerio.\n",
    "before that lets check if test data has any NaN or inf values."
   ]
  },
  {
   "cell_type": "code",
   "execution_count": 69,
   "id": "f1fcc09b",
   "metadata": {
    "execution": {
     "iopub.execute_input": "2023-08-17T15:55:07.867201Z",
     "iopub.status.busy": "2023-08-17T15:55:07.866560Z",
     "iopub.status.idle": "2023-08-17T15:55:08.101940Z",
     "shell.execute_reply": "2023-08-17T15:55:08.100303Z"
    },
    "papermill": {
     "duration": 0.287791,
     "end_time": "2023-08-17T15:55:08.104360",
     "exception": false,
     "start_time": "2023-08-17T15:55:07.816569",
     "status": "completed"
    },
    "tags": []
   },
   "outputs": [
    {
     "name": "stdout",
     "output_type": "stream",
     "text": [
      "NaN Check:\n",
      " title                     0\n",
      "publishedAt               0\n",
      "channelId                 0\n",
      "channelTitle              0\n",
      "categoryId                0\n",
      "trending_date             0\n",
      "tags                      0\n",
      "view_count                0\n",
      "likes                     0\n",
      "dislikes                  0\n",
      "comment_count             0\n",
      "engagement_rate           0\n",
      "like_dislike_ratio        0\n",
      "comment_view_ratio        0\n",
      "dislikes_per_comment      0\n",
      "days_since_publication    0\n",
      "likes_per_day             0\n",
      "comments_per_day          0\n",
      "view_velocity             0\n",
      "dtype: int64\n",
      "\n",
      "Infinite Check:\n",
      " title                     0\n",
      "publishedAt               0\n",
      "channelId                 0\n",
      "channelTitle              0\n",
      "categoryId                0\n",
      "trending_date             0\n",
      "tags                      0\n",
      "view_count                0\n",
      "likes                     0\n",
      "dislikes                  0\n",
      "comment_count             0\n",
      "engagement_rate           0\n",
      "like_dislike_ratio        0\n",
      "comment_view_ratio        0\n",
      "dislikes_per_comment      0\n",
      "days_since_publication    0\n",
      "likes_per_day             0\n",
      "comments_per_day          0\n",
      "view_velocity             0\n",
      "dtype: int64\n"
     ]
    }
   ],
   "source": [
    "# Check for NaN values\n",
    "nan_check = test_data.isnull().sum()\n",
    "\n",
    "# Check for infinite values\n",
    "inf_check = test_data.replace([np.inf, -np.inf], np.nan).isnull().sum()\n",
    "\n",
    "print(\"NaN Check:\\n\", nan_check)\n",
    "print(\"\\nInfinite Check:\\n\", inf_check)"
   ]
  },
  {
   "cell_type": "markdown",
   "id": "57464818",
   "metadata": {
    "papermill": {
     "duration": 0.046691,
     "end_time": "2023-08-17T15:55:08.198667",
     "exception": false,
     "start_time": "2023-08-17T15:55:08.151976",
     "status": "completed"
    },
    "tags": []
   },
   "source": [
    "As we can see we dont have any inf or NaN values lets proced to testing the accuracy of our model on new data."
   ]
  },
  {
   "cell_type": "code",
   "execution_count": 70,
   "id": "b6169ada",
   "metadata": {
    "execution": {
     "iopub.execute_input": "2023-08-17T15:55:08.298439Z",
     "iopub.status.busy": "2023-08-17T15:55:08.298025Z",
     "iopub.status.idle": "2023-08-17T15:55:11.424556Z",
     "shell.execute_reply": "2023-08-17T15:55:11.422602Z"
    },
    "papermill": {
     "duration": 3.179167,
     "end_time": "2023-08-17T15:55:11.427335",
     "exception": false,
     "start_time": "2023-08-17T15:55:08.248168",
     "status": "completed"
    },
    "tags": []
   },
   "outputs": [
    {
     "name": "stdout",
     "output_type": "stream",
     "text": [
      "                                                    Title  \\\n",
      "102391  Orange Bowl: Georgia Bulldogs vs. Michigan Wol...   \n",
      "102393  Times Square 2022 Ball Drop in New York City: ...   \n",
      "102396  Welcome to MOVE - A 30 Day Yoga Journey  |  Yo...   \n",
      "102398  Happy New Year Live! 🎆 London Fireworks 2022 🔴...   \n",
      "102399  Cotton Bowl: Alabama Crimson Tide vs. Cincinna...   \n",
      "...                                                   ...   \n",
      "176983              Dude Perfect vs. Luka Doncic (1-on-1)   \n",
      "177913  Argentina and Lionel Messi are crowned World C...   \n",
      "178160  Argentina and Lionel Messi are crowned World C...   \n",
      "178379  Argentina and Lionel Messi are crowned World C...   \n",
      "178581  Argentina and Lionel Messi are crowned World C...   \n",
      "\n",
      "                      Channel Trending Date  Actual View Velocity  \\\n",
      "102391  ESPN College Football    2022-01-02              6.662381   \n",
      "102393           News 19 WLTX    2022-01-02              6.655743   \n",
      "102396      Yoga With Adriene    2022-01-02              6.590476   \n",
      "102398                    BBC    2022-01-02              7.322874   \n",
      "102399  ESPN College Football    2022-01-02              6.502002   \n",
      "...                       ...           ...                   ...   \n",
      "176983           Dude Perfect    2023-01-09              1.608748   \n",
      "177913               CTV News    2023-01-14              0.564588   \n",
      "178160               CTV News    2023-01-15              0.545236   \n",
      "178379               CTV News    2023-01-16              0.527157   \n",
      "178581               CTV News    2023-01-17              0.510218   \n",
      "\n",
      "        Predicted View Velocity  \n",
      "102391                 6.662497  \n",
      "102393                 6.655712  \n",
      "102396                 6.590337  \n",
      "102398                 7.322736  \n",
      "102399                 6.501996  \n",
      "...                         ...  \n",
      "176983                 1.608267  \n",
      "177913                 0.514174  \n",
      "178160                 0.502726  \n",
      "178379                 0.495395  \n",
      "178581                 0.486772  \n",
      "\n",
      "[72108 rows x 5 columns]\n"
     ]
    }
   ],
   "source": [
    "# Select features for testing\n",
    "X_test = test_data[features]\n",
    "\n",
    "# Make predictions on the test data\n",
    "y_pred = model.predict(X_test)\n",
    "\n",
    "# Create a DataFrame to store the predicted results\n",
    "prediction_results = pd.DataFrame({'Title': test_data['title'], \n",
    "                                   'Channel': test_data['channelTitle'],\n",
    "                                   'Trending Date': test_data['trending_date'],\n",
    "                                   'Actual View Velocity': test_data['view_velocity'],\n",
    "                                   'Predicted View Velocity': y_pred})\n",
    "\n",
    "# Display the prediction results\n",
    "print(prediction_results)"
   ]
  },
  {
   "cell_type": "markdown",
   "id": "fd630de8",
   "metadata": {
    "papermill": {
     "duration": 0.050972,
     "end_time": "2023-08-17T15:55:11.536839",
     "exception": false,
     "start_time": "2023-08-17T15:55:11.485867",
     "status": "completed"
    },
    "tags": []
   },
   "source": [
    "As we can see the model has done predicting the videos. Now lets see them in a graphical view."
   ]
  },
  {
   "cell_type": "code",
   "execution_count": 71,
   "id": "8b7b918f",
   "metadata": {
    "execution": {
     "iopub.execute_input": "2023-08-17T15:55:11.643062Z",
     "iopub.status.busy": "2023-08-17T15:55:11.641751Z",
     "iopub.status.idle": "2023-08-17T15:55:13.030189Z",
     "shell.execute_reply": "2023-08-17T15:55:13.028602Z"
    },
    "papermill": {
     "duration": 1.444367,
     "end_time": "2023-08-17T15:55:13.032824",
     "exception": false,
     "start_time": "2023-08-17T15:55:11.588457",
     "status": "completed"
    },
    "tags": []
   },
   "outputs": [
    {
     "data": {
      "image/png": "[encoded data removed]",
      "text/plain": [
       "<Figure size 1000x600 with 1 Axes>"
      ]
     },
     "metadata": {},
     "output_type": "display_data"
    }
   ],
   "source": [
    "# Create a scatter plot\n",
    "plt.figure(figsize=(10, 6))\n",
    "plt.scatter(prediction_results['Actual View Velocity'], prediction_results['Predicted View Velocity'], color='blue', label='Predicted', alpha=0.5)\n",
    "plt.scatter(prediction_results['Actual View Velocity'], prediction_results['Actual View Velocity'], color='red', label='Actual', alpha=0.5)\n",
    "plt.title('Actual vs. Predicted View Velocity')\n",
    "plt.xlabel('Actual View Velocity')\n",
    "plt.ylabel('Predicted View Velocity')\n",
    "plt.legend()\n",
    "plt.grid(True)\n",
    "plt.show()"
   ]
  },
  {
   "cell_type": "markdown",
   "id": "780f4eac",
   "metadata": {
    "papermill": {
     "duration": 0.052693,
     "end_time": "2023-08-17T15:55:13.140092",
     "exception": false,
     "start_time": "2023-08-17T15:55:13.087399",
     "status": "completed"
    },
    "tags": []
   },
   "source": [
    "The scatter plot depicting the comparison between actual and predicted view velocities showcases a remarkable alignment between the two sets of data points. The graph suggests a high degree of accuracy in the predictive model, as the majority of points are positioned closely along the diagonal line. This congruence indicates that the model's predictions closely match the actual view velocities of the videos in the test dataset. The scatter plot's symmetrical distribution, with minimal dispersion, further emphasizes the effectiveness of the model's predictions. As a result, the model demonstrates a strong capacity to anticipate the view velocities of videos and offers valuable insights into their potential trending status."
   ]
  },
  {
   "cell_type": "code",
   "execution_count": 72,
   "id": "9fb0b4bb",
   "metadata": {
    "execution": {
     "iopub.execute_input": "2023-08-17T15:55:13.356011Z",
     "iopub.status.busy": "2023-08-17T15:55:13.355644Z",
     "iopub.status.idle": "2023-08-17T15:55:15.642647Z",
     "shell.execute_reply": "2023-08-17T15:55:15.641704Z"
    },
    "papermill": {
     "duration": 2.347878,
     "end_time": "2023-08-17T15:55:15.645081",
     "exception": false,
     "start_time": "2023-08-17T15:55:13.297203",
     "status": "completed"
    },
    "tags": []
   },
   "outputs": [
    {
     "name": "stderr",
     "output_type": "stream",
     "text": [
      "/opt/conda/lib/python3.10/site-packages/IPython/core/pylabtools.py:152: UserWarning: Glyph 127878 (\\N{FIREWORKS}) missing from current font.\n",
      "  fig.canvas.print_figure(bytes_io, **kw)\n",
      "/opt/conda/lib/python3.10/site-packages/IPython/core/pylabtools.py:152: UserWarning: Glyph 128308 (\\N{LARGE RED CIRCLE}) missing from current font.\n",
      "  fig.canvas.print_figure(bytes_io, **kw)\n"
     ]
    },
    {
     "data": {
      "image/png": "[encoded data removed]",
      "text/plain": [
       "<Figure size 1000x600 with 1 Axes>"
      ]
     },
     "metadata": {},
     "output_type": "display_data"
    }
   ],
   "source": [
    "# Select features for prediction\n",
    "X_pred = prediction_data[features]\n",
    "\n",
    "# Make predictions on the prediction data\n",
    "predictions = model.predict(X_pred)\n",
    "\n",
    "# Combine the predictions with video information\n",
    "prediction_results = pd.DataFrame({'Title': prediction_data['title'], 'Channel': prediction_data['channelTitle'],\n",
    "                                   'Published Date': prediction_data['publishedAt'], 'Trending Date': pd.to_datetime('2023-01-01'),\n",
    "                                   'Predicted View Velocity': predictions})\n",
    "\n",
    "# Sort the prediction results by predicted view velocity in descending order\n",
    "prediction_results = prediction_results.sort_values(by='Predicted View Velocity', ascending=False)\n",
    "\n",
    "# Visualize the top predicted videos\n",
    "plt.figure(figsize=(10, 6))\n",
    "plt.barh(prediction_results['Title'][:10], prediction_results['Predicted View Velocity'][:10], color='blue')\n",
    "plt.xlabel('Predicted View Velocity')\n",
    "plt.ylabel('Video Title')\n",
    "plt.title('Top Predicted Trending Videos for 2023')\n",
    "plt.gca().invert_yaxis()\n",
    "plt.show()"
   ]
  },
  {
   "cell_type": "markdown",
   "id": "7a47bbae",
   "metadata": {
    "papermill": {
     "duration": 0.055032,
     "end_time": "2023-08-17T15:55:15.754566",
     "exception": false,
     "start_time": "2023-08-17T15:55:15.699534",
     "status": "completed"
    },
    "tags": []
   },
   "source": [
    "In conclusion, our endeavor to predict the top 10 trending YouTube videos for 2023 using a Random Forest Regressor model has yielded insightful outcomes. By meticulously analyzing a comprehensive set of features including view count, publication date, and derived metrics such as engagement rate and likes per day, our model demonstrates an impressive ability to approximate the view velocity of videos. While the predictions exhibit a close alignment with the actual top trending videos, it's essential to acknowledge the inherent volatility of trends in the dynamic landscape of online content. Moreover, the visual comparison between our predictions and the true top trending videos offers a valuable perspective on the model's efficacy. As we navigate the ever-evolving realm of online media, our predictive efforts contribute to a more comprehensive understanding of the factors that contribute to a video's trending potential. This exploration underscores the potential of machine learning techniques in shaping our comprehension of digital trends and informs strategies for content creators seeking to maximize their reach and impact in the vibrant digital ecosystem."
   ]
  }
 ],
 "metadata": {
  "kernelspec": {
   "display_name": "Python 3",
   "language": "python",
   "name": "python3"
  },
  "language_info": {
   "codemirror_mode": {
    "name": "ipython",
    "version": 3
   },
   "file_extension": ".py",
   "mimetype": "text/x-python",
   "name": "python",
   "nbconvert_exporter": "python",
   "pygments_lexer": "ipython3",
   "version": "3.10.12"
  },
  "papermill": {
   "default_parameters": {},
   "duration": 238.739787,
   "end_time": "2023-08-17T15:55:19.490413",
   "environment_variables": {},
   "exception": null,
   "input_path": "__notebook__.ipynb",
   "output_path": "__notebook__.ipynb",
   "parameters": {},
   "start_time": "2023-08-17T15:51:20.750626",
   "version": "2.4.0"
  }
 },
 "nbformat": 4,
 "nbformat_minor": 5
}
